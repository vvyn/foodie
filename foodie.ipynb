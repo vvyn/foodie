{
  "cells": [
    {
      "cell_type": "code",
      "execution_count": null,
      "metadata": {
        "id": "NmFvI89_O2rI",
        "colab": {
          "base_uri": "https://localhost:8080/"
        },
        "outputId": "e387c7e3-7f3e-4301-ced0-464b5f2e51aa"
      },
      "outputs": [
        {
          "output_type": "stream",
          "name": "stderr",
          "text": [
            "[nltk_data] Downloading package punkt to /root/nltk_data...\n",
            "[nltk_data]   Package punkt is already up-to-date!\n"
          ]
        }
      ],
      "source": [
        "import os\n",
        "import pandas as pd\n",
        "import numpy as np\n",
        "\n",
        "import nltk\n",
        "from nltk.tokenize import word_tokenize\n",
        "from nltk.corpus import stopwords\n",
        "nltk.download('punkt')\n",
        "\n",
        "from google.colab import drive\n",
        "from google.colab import files\n",
        "\n",
        "from sklearn.model_selection import train_test_split\n",
        "from sklearn.feature_extraction.text import TfidfVectorizer\n",
        "from sklearn.metrics.pairwise import cosine_similarity\n",
        "\n",
        "from gensim.models import Word2Vec"
      ]
    },
    {
      "cell_type": "code",
      "execution_count": null,
      "metadata": {
        "id": "Hl2JvhUXPecg",
        "colab": {
          "base_uri": "https://localhost:8080/"
        },
        "outputId": "3b0a9c4e-d92e-420d-f0f3-be973a5b7291"
      },
      "outputs": [
        {
          "output_type": "stream",
          "name": "stdout",
          "text": [
            "Drive already mounted at /content/drive/; to attempt to forcibly remount, call drive.mount(\"/content/drive/\", force_remount=True).\n",
            "                                         name      id  minutes  \\\n",
            "0  arriba   baked winter squash mexican style  137739       55   \n",
            "1            a bit different  breakfast pizza   31490       30   \n",
            "2                   all in the kitchen  chili  112140      130   \n",
            "3                          alouette  potatoes   59389       45   \n",
            "4          amish  tomato ketchup  for canning   44061      190   \n",
            "\n",
            "   contributor_id   submitted  \\\n",
            "0           47892  2005-09-16   \n",
            "1           26278  2002-06-17   \n",
            "2          196586  2005-02-25   \n",
            "3           68585  2003-04-14   \n",
            "4           41706  2002-10-25   \n",
            "\n",
            "                                                tags  \\\n",
            "0  ['60-minutes-or-less', 'time-to-make', 'course...   \n",
            "1  ['30-minutes-or-less', 'time-to-make', 'course...   \n",
            "2  ['time-to-make', 'course', 'preparation', 'mai...   \n",
            "3  ['60-minutes-or-less', 'time-to-make', 'course...   \n",
            "4  ['weeknight', 'time-to-make', 'course', 'main-...   \n",
            "\n",
            "                                    nutrition  n_steps  \\\n",
            "0       [51.5, 0.0, 13.0, 0.0, 2.0, 0.0, 4.0]       11   \n",
            "1   [173.4, 18.0, 0.0, 17.0, 22.0, 35.0, 1.0]        9   \n",
            "2  [269.8, 22.0, 32.0, 48.0, 39.0, 27.0, 5.0]        6   \n",
            "3   [368.1, 17.0, 10.0, 2.0, 14.0, 8.0, 20.0]       11   \n",
            "4   [352.9, 1.0, 337.0, 23.0, 3.0, 0.0, 28.0]        5   \n",
            "\n",
            "                                               steps  \\\n",
            "0  ['make a choice and proceed with recipe', 'dep...   \n",
            "1  ['preheat oven to 425 degrees f', 'press dough...   \n",
            "2  ['brown ground beef in large pot', 'add choppe...   \n",
            "3  ['place potatoes in a large pot of lightly sal...   \n",
            "4  ['mix all ingredients& boil for 2 1 / 2 hours ...   \n",
            "\n",
            "                                         description  \\\n",
            "0  autumn is my favorite time of year to cook! th...   \n",
            "1  this recipe calls for the crust to be prebaked...   \n",
            "2  this modified version of 'mom's' chili was a h...   \n",
            "3  this is a super easy, great tasting, make ahea...   \n",
            "4  my dh's amish mother raised him on this recipe...   \n",
            "\n",
            "                                         ingredients  n_ingredients  \n",
            "0  ['winter squash', 'mexican seasoning', 'mixed ...              7  \n",
            "1  ['prepared pizza crust', 'sausage patty', 'egg...              6  \n",
            "2  ['ground beef', 'yellow onions', 'diced tomato...             13  \n",
            "3  ['spreadable cheese with garlic and herbs', 'n...             11  \n",
            "4  ['tomato juice', 'apple cider vinegar', 'sugar...              8  \n"
          ]
        }
      ],
      "source": [
        "drive.mount('/content/drive/')\n",
        "\n",
        "data_recipes  = pd.read_csv(\"/content/drive/MyDrive/NLP/RAW_recipes.csv\")\n",
        "\n",
        "df_recipes = pd.DataFrame(data_recipes)\n",
        "\n",
        "print(df_recipes.head())"
      ]
    },
    {
      "cell_type": "code",
      "execution_count": null,
      "metadata": {
        "id": "taUlvrotR8_8",
        "colab": {
          "base_uri": "https://localhost:8080/"
        },
        "outputId": "6a4882cc-ffff-47e4-8c08-ab09d06bb7fd"
      },
      "outputs": [
        {
          "output_type": "execute_result",
          "data": {
            "text/plain": [
              "name                 1\n",
              "id                   0\n",
              "minutes              0\n",
              "contributor_id       0\n",
              "submitted            0\n",
              "tags                 0\n",
              "nutrition            0\n",
              "n_steps              0\n",
              "steps                0\n",
              "description       4979\n",
              "ingredients          0\n",
              "n_ingredients        0\n",
              "dtype: int64"
            ]
          },
          "metadata": {},
          "execution_count": 107
        }
      ],
      "source": [
        "df_recipes.isnull().sum()"
      ]
    },
    {
      "cell_type": "code",
      "execution_count": null,
      "metadata": {
        "id": "Ges6yn7KSM9h",
        "colab": {
          "base_uri": "https://localhost:8080/"
        },
        "outputId": "82df31c5-958f-4765-fcae-6f7f1af6ebe5"
      },
      "outputs": [
        {
          "output_type": "execute_result",
          "data": {
            "text/plain": [
              "231636"
            ]
          },
          "metadata": {},
          "execution_count": 108
        }
      ],
      "source": [
        "df_recipes['name'].count()"
      ]
    },
    {
      "cell_type": "code",
      "execution_count": null,
      "metadata": {
        "id": "cxIoQmff5whf",
        "colab": {
          "base_uri": "https://localhost:8080/"
        },
        "outputId": "f602cb81-4e5d-49c0-f43a-599c555283a9"
      },
      "outputs": [
        {
          "output_type": "stream",
          "name": "stdout",
          "text": [
            "['arriba   baked winter squash mexican style'\n",
            " 'a bit different  breakfast pizza' 'all in the kitchen  chili' ...\n",
            " 'zydeco ya ya deviled eggs' 'cookies by design   cookies on a stick'\n",
            " 'cookies by design   sugar shortbread cookies']\n"
          ]
        }
      ],
      "source": [
        "df_recipes_unique = df_recipes['name'].unique()\n",
        "print(df_recipes_unique)"
      ]
    },
    {
      "cell_type": "code",
      "execution_count": null,
      "metadata": {
        "id": "3iCIEv59ZkCm",
        "colab": {
          "base_uri": "https://localhost:8080/"
        },
        "outputId": "58b7032e-0b53-467d-ce10-219fa7ebcf08"
      },
      "outputs": [
        {
          "output_type": "stream",
          "name": "stdout",
          "text": [
            "                                         name  \\\n",
            "0  arriba   baked winter squash mexican style   \n",
            "1            a bit different  breakfast pizza   \n",
            "2                   all in the kitchen  chili   \n",
            "3                          alouette  potatoes   \n",
            "4          amish  tomato ketchup  for canning   \n",
            "\n",
            "                                         description  \\\n",
            "0  autumn is my favorite time of year to cook! th...   \n",
            "1  this recipe calls for the crust to be prebaked...   \n",
            "2  this modified version of 'mom's' chili was a h...   \n",
            "3  this is a super easy, great tasting, make ahea...   \n",
            "4  my dh's amish mother raised him on this recipe...   \n",
            "\n",
            "                                         ingredients  \n",
            "0  ['winter squash', 'mexican seasoning', 'mixed ...  \n",
            "1  ['prepared pizza crust', 'sausage patty', 'egg...  \n",
            "2  ['ground beef', 'yellow onions', 'diced tomato...  \n",
            "3  ['spreadable cheese with garlic and herbs', 'n...  \n",
            "4  ['tomato juice', 'apple cider vinegar', 'sugar...  \n"
          ]
        }
      ],
      "source": [
        "df_train = df_recipes[['name', 'description', 'ingredients']]\n",
        "print(df_train.head())"
      ]
    },
    {
      "cell_type": "code",
      "execution_count": null,
      "metadata": {
        "id": "TxPxOs1rFTSQ",
        "colab": {
          "base_uri": "https://localhost:8080/"
        },
        "outputId": "a27e6473-421c-4445-8a36-a5ab8344e650"
      },
      "outputs": [
        {
          "output_type": "execute_result",
          "data": {
            "text/plain": [
              "name\n",
              "crock pot lemon garlic chicken                  3\n",
              "gluten free chocolate chip cookies              3\n",
              "chocolate peanut butter cookies                 3\n",
              "three bean chili                                3\n",
              "pop up rolls                                    3\n",
              "                                               ..\n",
              "easy pineapple cake                             1\n",
              "easy pineapple chicken                          1\n",
              "easy pineapple chili                            1\n",
              "easy pineapple dessert                          1\n",
              "cookies by design   sugar shortbread cookies    1\n",
              "Name: count, Length: 230185, dtype: int64"
            ]
          },
          "metadata": {},
          "execution_count": 111
        }
      ],
      "source": [
        "df_train['name'].value_counts()"
      ]
    },
    {
      "cell_type": "code",
      "execution_count": null,
      "metadata": {
        "id": "U2ujEWDaFkTl",
        "colab": {
          "base_uri": "https://localhost:8080/"
        },
        "outputId": "fa05943e-2e4b-4070-d059-209afc8a7b0b"
      },
      "outputs": [
        {
          "output_type": "execute_result",
          "data": {
            "text/plain": [
              "ingredients\n",
              "['eggs', 'water']                                                                                                                                                                                                10\n",
              "['flour', 'baking powder', 'salt', 'shortening', 'milk']                                                                                                                                                          6\n",
              "['sugar', 'water']                                                                                                                                                                                                5\n",
              "['butter', 'sugar', 'flour']                                                                                                                                                                                      5\n",
              "['all-purpose flour', 'baking powder', 'salt', 'butter', 'milk']                                                                                                                                                  5\n",
              "                                                                                                                                                                                                                 ..\n",
              "['boneless skinless chicken breast halves', 'white rice', 'hot water', 'chicken bouillon cubes', 'onion powder', 'carrots', 'broccoli', 'cream of celery soup', 'milk', 'parmesan cheese', 'salt and pepper']     1\n",
              "['lobster tails', 'white wine', 'garlic cloves', 'butter']                                                                                                                                                        1\n",
              "['ground beef', 'onion', 'green pepper', 'water', 'taco seasoning', 'cheese', 'tomatoes', 'sour cream', 'green onion', 'lettuce']                                                                                 1\n",
              "['kielbasa', 'green beans with new potatoes']                                                                                                                                                                     1\n",
              "['granulated sugar', 'shortening', 'eggs', 'flour', 'cream of tartar', 'baking soda', 'vanilla extract']                                                                                                          1\n",
              "Name: count, Length: 230475, dtype: int64"
            ]
          },
          "metadata": {},
          "execution_count": 112
        }
      ],
      "source": [
        "df_train['ingredients'].value_counts()"
      ]
    },
    {
      "cell_type": "code",
      "execution_count": null,
      "metadata": {
        "id": "lYBUwPHXFrmq",
        "colab": {
          "base_uri": "https://localhost:8080/"
        },
        "outputId": "404beb0d-77bf-4bc4-e352-42f092ba96f9"
      },
      "outputs": [
        {
          "output_type": "stream",
          "name": "stdout",
          "text": [
            "                                         ingredients\n",
            "0  ['winter squash', 'mexican seasoning', 'mixed ...\n",
            "1  ['prepared pizza crust', 'sausage patty', 'egg...\n",
            "2  ['ground beef', 'yellow onions', 'diced tomato...\n",
            "3  ['spreadable cheese with garlic and herbs', 'n...\n",
            "4  ['tomato juice', 'apple cider vinegar', 'sugar...\n",
            "------\n",
            "                                         name\n",
            "0  arriba   baked winter squash mexican style\n",
            "1            a bit different  breakfast pizza\n",
            "2                   all in the kitchen  chili\n",
            "3                          alouette  potatoes\n",
            "4          amish  tomato ketchup  for canning\n"
          ]
        }
      ],
      "source": [
        "X = df_train[['ingredients']]\n",
        "Y = df_train[['name']]\n",
        "\n",
        "print(X.head())\n",
        "print(\"------\")\n",
        "print(Y.head())"
      ]
    },
    {
      "cell_type": "code",
      "execution_count": null,
      "metadata": {
        "id": "LX5TLKPkK7VO"
      },
      "outputs": [],
      "source": [
        "X_train, X_test, y_train, y_test = train_test_split(X, Y, test_size = 0.2, random_state=5)"
      ]
    },
    {
      "cell_type": "code",
      "execution_count": null,
      "metadata": {
        "id": "yBPpLaufLJRy",
        "colab": {
          "base_uri": "https://localhost:8080/",
          "height": 203
        },
        "outputId": "3e0bef45-2edb-42a4-8975-ab052493eed2"
      },
      "outputs": [
        {
          "output_type": "execute_result",
          "data": {
            "text/plain": [
              "pandas.core.series.Series"
            ],
            "text/html": [
              "<div style=\"max-width:800px; border: 1px solid var(--colab-border-color);\"><style>\n",
              "      pre.function-repr-contents {\n",
              "        overflow-x: auto;\n",
              "        padding: 8px 12px;\n",
              "        max-height: 500px;\n",
              "      }\n",
              "\n",
              "      pre.function-repr-contents.function-repr-contents-collapsed {\n",
              "        cursor: pointer;\n",
              "        max-height: 100px;\n",
              "      }\n",
              "    </style>\n",
              "    <pre style=\"white-space: initial; background:\n",
              "         var(--colab-secondary-surface-color); padding: 8px 12px;\n",
              "         border-bottom: 1px solid var(--colab-border-color);\"><b>pandas.core.series.Series</b><br/>def __init__(data=None, index=None, dtype: Dtype | None=None, name=None, copy: bool | None=None, fastpath: bool=False) -&gt; None</pre><pre class=\"function-repr-contents function-repr-contents-collapsed\" style=\"\"><a class=\"filepath\" style=\"display:none\" href=\"#\">/usr/local/lib/python3.10/dist-packages/pandas/core/series.py</a>One-dimensional ndarray with axis labels (including time series).\n",
              "\n",
              "Labels need not be unique but must be a hashable type. The object\n",
              "supports both integer- and label-based indexing and provides a host of\n",
              "methods for performing operations involving the index. Statistical\n",
              "methods from ndarray have been overridden to automatically exclude\n",
              "missing data (currently represented as NaN).\n",
              "\n",
              "Operations between Series (+, -, /, \\*, \\*\\*) align values based on their\n",
              "associated index values-- they need not be the same length. The result\n",
              "index will be the sorted union of the two indexes.\n",
              "\n",
              "Parameters\n",
              "----------\n",
              "data : array-like, Iterable, dict, or scalar value\n",
              "    Contains data stored in Series. If data is a dict, argument order is\n",
              "    maintained.\n",
              "index : array-like or Index (1d)\n",
              "    Values must be hashable and have the same length as `data`.\n",
              "    Non-unique index values are allowed. Will default to\n",
              "    RangeIndex (0, 1, 2, ..., n) if not provided. If data is dict-like\n",
              "    and index is None, then the keys in the data are used as the index. If the\n",
              "    index is not None, the resulting Series is reindexed with the index values.\n",
              "dtype : str, numpy.dtype, or ExtensionDtype, optional\n",
              "    Data type for the output Series. If not specified, this will be\n",
              "    inferred from `data`.\n",
              "    See the :ref:`user guide &lt;basics.dtypes&gt;` for more usages.\n",
              "name : Hashable, default None\n",
              "    The name to give to the Series.\n",
              "copy : bool, default False\n",
              "    Copy input data. Only affects Series or 1d ndarray input. See examples.\n",
              "\n",
              "Notes\n",
              "-----\n",
              "Please reference the :ref:`User Guide &lt;basics.series&gt;` for more information.\n",
              "\n",
              "Examples\n",
              "--------\n",
              "Constructing Series from a dictionary with an Index specified\n",
              "\n",
              "&gt;&gt;&gt; d = {&#x27;a&#x27;: 1, &#x27;b&#x27;: 2, &#x27;c&#x27;: 3}\n",
              "&gt;&gt;&gt; ser = pd.Series(data=d, index=[&#x27;a&#x27;, &#x27;b&#x27;, &#x27;c&#x27;])\n",
              "&gt;&gt;&gt; ser\n",
              "a   1\n",
              "b   2\n",
              "c   3\n",
              "dtype: int64\n",
              "\n",
              "The keys of the dictionary match with the Index values, hence the Index\n",
              "values have no effect.\n",
              "\n",
              "&gt;&gt;&gt; d = {&#x27;a&#x27;: 1, &#x27;b&#x27;: 2, &#x27;c&#x27;: 3}\n",
              "&gt;&gt;&gt; ser = pd.Series(data=d, index=[&#x27;x&#x27;, &#x27;y&#x27;, &#x27;z&#x27;])\n",
              "&gt;&gt;&gt; ser\n",
              "x   NaN\n",
              "y   NaN\n",
              "z   NaN\n",
              "dtype: float64\n",
              "\n",
              "Note that the Index is first build with the keys from the dictionary.\n",
              "After this the Series is reindexed with the given Index values, hence we\n",
              "get all NaN as a result.\n",
              "\n",
              "Constructing Series from a list with `copy=False`.\n",
              "\n",
              "&gt;&gt;&gt; r = [1, 2]\n",
              "&gt;&gt;&gt; ser = pd.Series(r, copy=False)\n",
              "&gt;&gt;&gt; ser.iloc[0] = 999\n",
              "&gt;&gt;&gt; r\n",
              "[1, 2]\n",
              "&gt;&gt;&gt; ser\n",
              "0    999\n",
              "1      2\n",
              "dtype: int64\n",
              "\n",
              "Due to input data type the Series has a `copy` of\n",
              "the original data even though `copy=False`, so\n",
              "the data is unchanged.\n",
              "\n",
              "Constructing Series from a 1d ndarray with `copy=False`.\n",
              "\n",
              "&gt;&gt;&gt; r = np.array([1, 2])\n",
              "&gt;&gt;&gt; ser = pd.Series(r, copy=False)\n",
              "&gt;&gt;&gt; ser.iloc[0] = 999\n",
              "&gt;&gt;&gt; r\n",
              "array([999,   2])\n",
              "&gt;&gt;&gt; ser\n",
              "0    999\n",
              "1      2\n",
              "dtype: int64\n",
              "\n",
              "Due to input data type the Series has a `view` on\n",
              "the original data, so\n",
              "the data is changed as well.</pre>\n",
              "      <script>\n",
              "      if (google.colab.kernel.accessAllowed && google.colab.files && google.colab.files.view) {\n",
              "        for (const element of document.querySelectorAll('.filepath')) {\n",
              "          element.style.display = 'block'\n",
              "          element.onclick = (event) => {\n",
              "            event.preventDefault();\n",
              "            event.stopPropagation();\n",
              "            google.colab.files.view(element.textContent, 244);\n",
              "          };\n",
              "        }\n",
              "      }\n",
              "      for (const element of document.querySelectorAll('.function-repr-contents')) {\n",
              "        element.onclick = (event) => {\n",
              "          event.preventDefault();\n",
              "          event.stopPropagation();\n",
              "          element.classList.toggle('function-repr-contents-collapsed');\n",
              "        };\n",
              "      }\n",
              "      </script>\n",
              "      </div>"
            ]
          },
          "metadata": {},
          "execution_count": 115
        }
      ],
      "source": [
        "X_train = X_train.squeeze()\n",
        "type(X_train)"
      ]
    },
    {
      "cell_type": "code",
      "execution_count": null,
      "metadata": {
        "id": "LlI32tcCOQ1A",
        "colab": {
          "base_uri": "https://localhost:8080/",
          "height": 203
        },
        "outputId": "2d2bba7e-a53d-4809-a5ca-7f9ef275af69"
      },
      "outputs": [
        {
          "output_type": "execute_result",
          "data": {
            "text/plain": [
              "pandas.core.series.Series"
            ],
            "text/html": [
              "<div style=\"max-width:800px; border: 1px solid var(--colab-border-color);\"><style>\n",
              "      pre.function-repr-contents {\n",
              "        overflow-x: auto;\n",
              "        padding: 8px 12px;\n",
              "        max-height: 500px;\n",
              "      }\n",
              "\n",
              "      pre.function-repr-contents.function-repr-contents-collapsed {\n",
              "        cursor: pointer;\n",
              "        max-height: 100px;\n",
              "      }\n",
              "    </style>\n",
              "    <pre style=\"white-space: initial; background:\n",
              "         var(--colab-secondary-surface-color); padding: 8px 12px;\n",
              "         border-bottom: 1px solid var(--colab-border-color);\"><b>pandas.core.series.Series</b><br/>def __init__(data=None, index=None, dtype: Dtype | None=None, name=None, copy: bool | None=None, fastpath: bool=False) -&gt; None</pre><pre class=\"function-repr-contents function-repr-contents-collapsed\" style=\"\"><a class=\"filepath\" style=\"display:none\" href=\"#\">/usr/local/lib/python3.10/dist-packages/pandas/core/series.py</a>One-dimensional ndarray with axis labels (including time series).\n",
              "\n",
              "Labels need not be unique but must be a hashable type. The object\n",
              "supports both integer- and label-based indexing and provides a host of\n",
              "methods for performing operations involving the index. Statistical\n",
              "methods from ndarray have been overridden to automatically exclude\n",
              "missing data (currently represented as NaN).\n",
              "\n",
              "Operations between Series (+, -, /, \\*, \\*\\*) align values based on their\n",
              "associated index values-- they need not be the same length. The result\n",
              "index will be the sorted union of the two indexes.\n",
              "\n",
              "Parameters\n",
              "----------\n",
              "data : array-like, Iterable, dict, or scalar value\n",
              "    Contains data stored in Series. If data is a dict, argument order is\n",
              "    maintained.\n",
              "index : array-like or Index (1d)\n",
              "    Values must be hashable and have the same length as `data`.\n",
              "    Non-unique index values are allowed. Will default to\n",
              "    RangeIndex (0, 1, 2, ..., n) if not provided. If data is dict-like\n",
              "    and index is None, then the keys in the data are used as the index. If the\n",
              "    index is not None, the resulting Series is reindexed with the index values.\n",
              "dtype : str, numpy.dtype, or ExtensionDtype, optional\n",
              "    Data type for the output Series. If not specified, this will be\n",
              "    inferred from `data`.\n",
              "    See the :ref:`user guide &lt;basics.dtypes&gt;` for more usages.\n",
              "name : Hashable, default None\n",
              "    The name to give to the Series.\n",
              "copy : bool, default False\n",
              "    Copy input data. Only affects Series or 1d ndarray input. See examples.\n",
              "\n",
              "Notes\n",
              "-----\n",
              "Please reference the :ref:`User Guide &lt;basics.series&gt;` for more information.\n",
              "\n",
              "Examples\n",
              "--------\n",
              "Constructing Series from a dictionary with an Index specified\n",
              "\n",
              "&gt;&gt;&gt; d = {&#x27;a&#x27;: 1, &#x27;b&#x27;: 2, &#x27;c&#x27;: 3}\n",
              "&gt;&gt;&gt; ser = pd.Series(data=d, index=[&#x27;a&#x27;, &#x27;b&#x27;, &#x27;c&#x27;])\n",
              "&gt;&gt;&gt; ser\n",
              "a   1\n",
              "b   2\n",
              "c   3\n",
              "dtype: int64\n",
              "\n",
              "The keys of the dictionary match with the Index values, hence the Index\n",
              "values have no effect.\n",
              "\n",
              "&gt;&gt;&gt; d = {&#x27;a&#x27;: 1, &#x27;b&#x27;: 2, &#x27;c&#x27;: 3}\n",
              "&gt;&gt;&gt; ser = pd.Series(data=d, index=[&#x27;x&#x27;, &#x27;y&#x27;, &#x27;z&#x27;])\n",
              "&gt;&gt;&gt; ser\n",
              "x   NaN\n",
              "y   NaN\n",
              "z   NaN\n",
              "dtype: float64\n",
              "\n",
              "Note that the Index is first build with the keys from the dictionary.\n",
              "After this the Series is reindexed with the given Index values, hence we\n",
              "get all NaN as a result.\n",
              "\n",
              "Constructing Series from a list with `copy=False`.\n",
              "\n",
              "&gt;&gt;&gt; r = [1, 2]\n",
              "&gt;&gt;&gt; ser = pd.Series(r, copy=False)\n",
              "&gt;&gt;&gt; ser.iloc[0] = 999\n",
              "&gt;&gt;&gt; r\n",
              "[1, 2]\n",
              "&gt;&gt;&gt; ser\n",
              "0    999\n",
              "1      2\n",
              "dtype: int64\n",
              "\n",
              "Due to input data type the Series has a `copy` of\n",
              "the original data even though `copy=False`, so\n",
              "the data is unchanged.\n",
              "\n",
              "Constructing Series from a 1d ndarray with `copy=False`.\n",
              "\n",
              "&gt;&gt;&gt; r = np.array([1, 2])\n",
              "&gt;&gt;&gt; ser = pd.Series(r, copy=False)\n",
              "&gt;&gt;&gt; ser.iloc[0] = 999\n",
              "&gt;&gt;&gt; r\n",
              "array([999,   2])\n",
              "&gt;&gt;&gt; ser\n",
              "0    999\n",
              "1      2\n",
              "dtype: int64\n",
              "\n",
              "Due to input data type the Series has a `view` on\n",
              "the original data, so\n",
              "the data is changed as well.</pre>\n",
              "      <script>\n",
              "      if (google.colab.kernel.accessAllowed && google.colab.files && google.colab.files.view) {\n",
              "        for (const element of document.querySelectorAll('.filepath')) {\n",
              "          element.style.display = 'block'\n",
              "          element.onclick = (event) => {\n",
              "            event.preventDefault();\n",
              "            event.stopPropagation();\n",
              "            google.colab.files.view(element.textContent, 244);\n",
              "          };\n",
              "        }\n",
              "      }\n",
              "      for (const element of document.querySelectorAll('.function-repr-contents')) {\n",
              "        element.onclick = (event) => {\n",
              "          event.preventDefault();\n",
              "          event.stopPropagation();\n",
              "          element.classList.toggle('function-repr-contents-collapsed');\n",
              "        };\n",
              "      }\n",
              "      </script>\n",
              "      </div>"
            ]
          },
          "metadata": {},
          "execution_count": 116
        }
      ],
      "source": [
        "X_test = X_test.squeeze()\n",
        "type(X_test)"
      ]
    },
    {
      "cell_type": "code",
      "execution_count": null,
      "metadata": {
        "id": "JD-r2isNRY_v",
        "colab": {
          "base_uri": "https://localhost:8080/",
          "height": 203
        },
        "outputId": "4292fdc2-0bac-4286-8482-d3ce1f652eea"
      },
      "outputs": [
        {
          "output_type": "execute_result",
          "data": {
            "text/plain": [
              "pandas.core.series.Series"
            ],
            "text/html": [
              "<div style=\"max-width:800px; border: 1px solid var(--colab-border-color);\"><style>\n",
              "      pre.function-repr-contents {\n",
              "        overflow-x: auto;\n",
              "        padding: 8px 12px;\n",
              "        max-height: 500px;\n",
              "      }\n",
              "\n",
              "      pre.function-repr-contents.function-repr-contents-collapsed {\n",
              "        cursor: pointer;\n",
              "        max-height: 100px;\n",
              "      }\n",
              "    </style>\n",
              "    <pre style=\"white-space: initial; background:\n",
              "         var(--colab-secondary-surface-color); padding: 8px 12px;\n",
              "         border-bottom: 1px solid var(--colab-border-color);\"><b>pandas.core.series.Series</b><br/>def __init__(data=None, index=None, dtype: Dtype | None=None, name=None, copy: bool | None=None, fastpath: bool=False) -&gt; None</pre><pre class=\"function-repr-contents function-repr-contents-collapsed\" style=\"\"><a class=\"filepath\" style=\"display:none\" href=\"#\">/usr/local/lib/python3.10/dist-packages/pandas/core/series.py</a>One-dimensional ndarray with axis labels (including time series).\n",
              "\n",
              "Labels need not be unique but must be a hashable type. The object\n",
              "supports both integer- and label-based indexing and provides a host of\n",
              "methods for performing operations involving the index. Statistical\n",
              "methods from ndarray have been overridden to automatically exclude\n",
              "missing data (currently represented as NaN).\n",
              "\n",
              "Operations between Series (+, -, /, \\*, \\*\\*) align values based on their\n",
              "associated index values-- they need not be the same length. The result\n",
              "index will be the sorted union of the two indexes.\n",
              "\n",
              "Parameters\n",
              "----------\n",
              "data : array-like, Iterable, dict, or scalar value\n",
              "    Contains data stored in Series. If data is a dict, argument order is\n",
              "    maintained.\n",
              "index : array-like or Index (1d)\n",
              "    Values must be hashable and have the same length as `data`.\n",
              "    Non-unique index values are allowed. Will default to\n",
              "    RangeIndex (0, 1, 2, ..., n) if not provided. If data is dict-like\n",
              "    and index is None, then the keys in the data are used as the index. If the\n",
              "    index is not None, the resulting Series is reindexed with the index values.\n",
              "dtype : str, numpy.dtype, or ExtensionDtype, optional\n",
              "    Data type for the output Series. If not specified, this will be\n",
              "    inferred from `data`.\n",
              "    See the :ref:`user guide &lt;basics.dtypes&gt;` for more usages.\n",
              "name : Hashable, default None\n",
              "    The name to give to the Series.\n",
              "copy : bool, default False\n",
              "    Copy input data. Only affects Series or 1d ndarray input. See examples.\n",
              "\n",
              "Notes\n",
              "-----\n",
              "Please reference the :ref:`User Guide &lt;basics.series&gt;` for more information.\n",
              "\n",
              "Examples\n",
              "--------\n",
              "Constructing Series from a dictionary with an Index specified\n",
              "\n",
              "&gt;&gt;&gt; d = {&#x27;a&#x27;: 1, &#x27;b&#x27;: 2, &#x27;c&#x27;: 3}\n",
              "&gt;&gt;&gt; ser = pd.Series(data=d, index=[&#x27;a&#x27;, &#x27;b&#x27;, &#x27;c&#x27;])\n",
              "&gt;&gt;&gt; ser\n",
              "a   1\n",
              "b   2\n",
              "c   3\n",
              "dtype: int64\n",
              "\n",
              "The keys of the dictionary match with the Index values, hence the Index\n",
              "values have no effect.\n",
              "\n",
              "&gt;&gt;&gt; d = {&#x27;a&#x27;: 1, &#x27;b&#x27;: 2, &#x27;c&#x27;: 3}\n",
              "&gt;&gt;&gt; ser = pd.Series(data=d, index=[&#x27;x&#x27;, &#x27;y&#x27;, &#x27;z&#x27;])\n",
              "&gt;&gt;&gt; ser\n",
              "x   NaN\n",
              "y   NaN\n",
              "z   NaN\n",
              "dtype: float64\n",
              "\n",
              "Note that the Index is first build with the keys from the dictionary.\n",
              "After this the Series is reindexed with the given Index values, hence we\n",
              "get all NaN as a result.\n",
              "\n",
              "Constructing Series from a list with `copy=False`.\n",
              "\n",
              "&gt;&gt;&gt; r = [1, 2]\n",
              "&gt;&gt;&gt; ser = pd.Series(r, copy=False)\n",
              "&gt;&gt;&gt; ser.iloc[0] = 999\n",
              "&gt;&gt;&gt; r\n",
              "[1, 2]\n",
              "&gt;&gt;&gt; ser\n",
              "0    999\n",
              "1      2\n",
              "dtype: int64\n",
              "\n",
              "Due to input data type the Series has a `copy` of\n",
              "the original data even though `copy=False`, so\n",
              "the data is unchanged.\n",
              "\n",
              "Constructing Series from a 1d ndarray with `copy=False`.\n",
              "\n",
              "&gt;&gt;&gt; r = np.array([1, 2])\n",
              "&gt;&gt;&gt; ser = pd.Series(r, copy=False)\n",
              "&gt;&gt;&gt; ser.iloc[0] = 999\n",
              "&gt;&gt;&gt; r\n",
              "array([999,   2])\n",
              "&gt;&gt;&gt; ser\n",
              "0    999\n",
              "1      2\n",
              "dtype: int64\n",
              "\n",
              "Due to input data type the Series has a `view` on\n",
              "the original data, so\n",
              "the data is changed as well.</pre>\n",
              "      <script>\n",
              "      if (google.colab.kernel.accessAllowed && google.colab.files && google.colab.files.view) {\n",
              "        for (const element of document.querySelectorAll('.filepath')) {\n",
              "          element.style.display = 'block'\n",
              "          element.onclick = (event) => {\n",
              "            event.preventDefault();\n",
              "            event.stopPropagation();\n",
              "            google.colab.files.view(element.textContent, 244);\n",
              "          };\n",
              "        }\n",
              "      }\n",
              "      for (const element of document.querySelectorAll('.function-repr-contents')) {\n",
              "        element.onclick = (event) => {\n",
              "          event.preventDefault();\n",
              "          event.stopPropagation();\n",
              "          element.classList.toggle('function-repr-contents-collapsed');\n",
              "        };\n",
              "      }\n",
              "      </script>\n",
              "      </div>"
            ]
          },
          "metadata": {},
          "execution_count": 117
        }
      ],
      "source": [
        "y_test = y_test.squeeze()\n",
        "type(y_test)"
      ]
    },
    {
      "cell_type": "code",
      "execution_count": null,
      "metadata": {
        "id": "h33rgQCgTBOn",
        "colab": {
          "base_uri": "https://localhost:8080/",
          "height": 203
        },
        "outputId": "83192ca6-a00a-4e1a-c9ac-4cb870cc90e4"
      },
      "outputs": [
        {
          "output_type": "execute_result",
          "data": {
            "text/plain": [
              "pandas.core.series.Series"
            ],
            "text/html": [
              "<div style=\"max-width:800px; border: 1px solid var(--colab-border-color);\"><style>\n",
              "      pre.function-repr-contents {\n",
              "        overflow-x: auto;\n",
              "        padding: 8px 12px;\n",
              "        max-height: 500px;\n",
              "      }\n",
              "\n",
              "      pre.function-repr-contents.function-repr-contents-collapsed {\n",
              "        cursor: pointer;\n",
              "        max-height: 100px;\n",
              "      }\n",
              "    </style>\n",
              "    <pre style=\"white-space: initial; background:\n",
              "         var(--colab-secondary-surface-color); padding: 8px 12px;\n",
              "         border-bottom: 1px solid var(--colab-border-color);\"><b>pandas.core.series.Series</b><br/>def __init__(data=None, index=None, dtype: Dtype | None=None, name=None, copy: bool | None=None, fastpath: bool=False) -&gt; None</pre><pre class=\"function-repr-contents function-repr-contents-collapsed\" style=\"\"><a class=\"filepath\" style=\"display:none\" href=\"#\">/usr/local/lib/python3.10/dist-packages/pandas/core/series.py</a>One-dimensional ndarray with axis labels (including time series).\n",
              "\n",
              "Labels need not be unique but must be a hashable type. The object\n",
              "supports both integer- and label-based indexing and provides a host of\n",
              "methods for performing operations involving the index. Statistical\n",
              "methods from ndarray have been overridden to automatically exclude\n",
              "missing data (currently represented as NaN).\n",
              "\n",
              "Operations between Series (+, -, /, \\*, \\*\\*) align values based on their\n",
              "associated index values-- they need not be the same length. The result\n",
              "index will be the sorted union of the two indexes.\n",
              "\n",
              "Parameters\n",
              "----------\n",
              "data : array-like, Iterable, dict, or scalar value\n",
              "    Contains data stored in Series. If data is a dict, argument order is\n",
              "    maintained.\n",
              "index : array-like or Index (1d)\n",
              "    Values must be hashable and have the same length as `data`.\n",
              "    Non-unique index values are allowed. Will default to\n",
              "    RangeIndex (0, 1, 2, ..., n) if not provided. If data is dict-like\n",
              "    and index is None, then the keys in the data are used as the index. If the\n",
              "    index is not None, the resulting Series is reindexed with the index values.\n",
              "dtype : str, numpy.dtype, or ExtensionDtype, optional\n",
              "    Data type for the output Series. If not specified, this will be\n",
              "    inferred from `data`.\n",
              "    See the :ref:`user guide &lt;basics.dtypes&gt;` for more usages.\n",
              "name : Hashable, default None\n",
              "    The name to give to the Series.\n",
              "copy : bool, default False\n",
              "    Copy input data. Only affects Series or 1d ndarray input. See examples.\n",
              "\n",
              "Notes\n",
              "-----\n",
              "Please reference the :ref:`User Guide &lt;basics.series&gt;` for more information.\n",
              "\n",
              "Examples\n",
              "--------\n",
              "Constructing Series from a dictionary with an Index specified\n",
              "\n",
              "&gt;&gt;&gt; d = {&#x27;a&#x27;: 1, &#x27;b&#x27;: 2, &#x27;c&#x27;: 3}\n",
              "&gt;&gt;&gt; ser = pd.Series(data=d, index=[&#x27;a&#x27;, &#x27;b&#x27;, &#x27;c&#x27;])\n",
              "&gt;&gt;&gt; ser\n",
              "a   1\n",
              "b   2\n",
              "c   3\n",
              "dtype: int64\n",
              "\n",
              "The keys of the dictionary match with the Index values, hence the Index\n",
              "values have no effect.\n",
              "\n",
              "&gt;&gt;&gt; d = {&#x27;a&#x27;: 1, &#x27;b&#x27;: 2, &#x27;c&#x27;: 3}\n",
              "&gt;&gt;&gt; ser = pd.Series(data=d, index=[&#x27;x&#x27;, &#x27;y&#x27;, &#x27;z&#x27;])\n",
              "&gt;&gt;&gt; ser\n",
              "x   NaN\n",
              "y   NaN\n",
              "z   NaN\n",
              "dtype: float64\n",
              "\n",
              "Note that the Index is first build with the keys from the dictionary.\n",
              "After this the Series is reindexed with the given Index values, hence we\n",
              "get all NaN as a result.\n",
              "\n",
              "Constructing Series from a list with `copy=False`.\n",
              "\n",
              "&gt;&gt;&gt; r = [1, 2]\n",
              "&gt;&gt;&gt; ser = pd.Series(r, copy=False)\n",
              "&gt;&gt;&gt; ser.iloc[0] = 999\n",
              "&gt;&gt;&gt; r\n",
              "[1, 2]\n",
              "&gt;&gt;&gt; ser\n",
              "0    999\n",
              "1      2\n",
              "dtype: int64\n",
              "\n",
              "Due to input data type the Series has a `copy` of\n",
              "the original data even though `copy=False`, so\n",
              "the data is unchanged.\n",
              "\n",
              "Constructing Series from a 1d ndarray with `copy=False`.\n",
              "\n",
              "&gt;&gt;&gt; r = np.array([1, 2])\n",
              "&gt;&gt;&gt; ser = pd.Series(r, copy=False)\n",
              "&gt;&gt;&gt; ser.iloc[0] = 999\n",
              "&gt;&gt;&gt; r\n",
              "array([999,   2])\n",
              "&gt;&gt;&gt; ser\n",
              "0    999\n",
              "1      2\n",
              "dtype: int64\n",
              "\n",
              "Due to input data type the Series has a `view` on\n",
              "the original data, so\n",
              "the data is changed as well.</pre>\n",
              "      <script>\n",
              "      if (google.colab.kernel.accessAllowed && google.colab.files && google.colab.files.view) {\n",
              "        for (const element of document.querySelectorAll('.filepath')) {\n",
              "          element.style.display = 'block'\n",
              "          element.onclick = (event) => {\n",
              "            event.preventDefault();\n",
              "            event.stopPropagation();\n",
              "            google.colab.files.view(element.textContent, 244);\n",
              "          };\n",
              "        }\n",
              "      }\n",
              "      for (const element of document.querySelectorAll('.function-repr-contents')) {\n",
              "        element.onclick = (event) => {\n",
              "          event.preventDefault();\n",
              "          event.stopPropagation();\n",
              "          element.classList.toggle('function-repr-contents-collapsed');\n",
              "        };\n",
              "      }\n",
              "      </script>\n",
              "      </div>"
            ]
          },
          "metadata": {},
          "execution_count": 118
        }
      ],
      "source": [
        "y_train = y_train.squeeze()\n",
        "type(y_train)"
      ]
    },
    {
      "cell_type": "code",
      "execution_count": null,
      "metadata": {
        "id": "aHJ91StNOgcw"
      },
      "outputs": [],
      "source": [
        "tfidfv = TfidfVectorizer(lowercase=True)\n",
        "X_train = X_train.fillna(\"\")\n",
        "y_train = y_train.fillna(\"\")\n",
        "x_train = tfidfv.fit_transform(X_train)\n",
        "x_test = tfidfv.transform(X_test)"
      ]
    },
    {
      "cell_type": "code",
      "source": [
        "import ast\n",
        "\n",
        "def clean_tokens(input):\n",
        "    try:\n",
        "        ingredients = ast.literal_eval(input)\n",
        "    except ValueError:\n",
        "        ingredients = input.strip(\"[]\").split(\", \")\n",
        "        ingredients = [word.strip(\"'\") for word in ingredients]\n",
        "\n",
        "    tokens = [item for sublist in ingredients for item in sublist.split()]\n",
        "    return tokens"
      ],
      "metadata": {
        "id": "4WSNALqwbaHw"
      },
      "execution_count": null,
      "outputs": []
    },
    {
      "cell_type": "code",
      "execution_count": null,
      "metadata": {
        "colab": {
          "base_uri": "https://localhost:8080/"
        },
        "id": "BmmZBuTjoskp",
        "outputId": "7ff7cca8-4462-4dae-82c7-03bdbc053550"
      },
      "outputs": [
        {
          "output_type": "stream",
          "name": "stdout",
          "text": [
            "98704     ['boneless skinless salmon fillets', 'red chil...\n",
            "186612    ['beef bones', 'carrots', 'onions', 'celery', ...\n",
            "27160     ['lean ground beef', 'ground cloves', 'poultry...\n",
            "62648     ['chicken breasts', 'carrots', 'onion', 'oil',...\n",
            "28370     ['extra virgin olive oil', 'garlic', 'romano c...\n",
            "Name: ingredients, dtype: object\n",
            "-----\n",
            "98704     [boneless, skinless, salmon, fillets, red, chi...\n",
            "186612    [beef, bones, carrots, onions, celery, leeks, ...\n",
            "27160     [lean, ground, beef, ground, cloves, poultry, ...\n",
            "62648     [chicken, breasts, carrots, onion, oil, chicke...\n",
            "28370     [extra, virgin, olive, oil, garlic, romano, ch...\n",
            "Name: ingredients, dtype: object\n",
            "-----\n",
            "['salt', 'pepper', 'sugar', 'oil', 'cheese', 'fresh', 'garlic', 'butter', 'onion', 'ground', 'flour', 'powder', 'cream', 'water', 'sauce', 'juice', 'chicken', 'olive', 'milk', 'red', 'black', 'eggs', 'baking', 'green', 'vanilla', 'cloves', 'lemon', 'white', 'egg', 'dried', 'tomatoes', 'brown', 'vinegar', 'cinnamon', 'parsley', 'onions', 'and', 'beef', 'vegetable', 'all-purpose', 'wine', 'chocolate', 'of', 'mustard', 'parmesan', 'extract', 'rice', 'dry', 'celery', 'soda', 'broth', 'potatoes', 'cheddar', 'tomato', 'chili', 'sour', 'beans', 'ginger', 'mix', 'basil', 'orange', 'frozen', 'bell', 'leaves', 'whole', 'corn', 'cumin', 'seasoning', 'boneless', 'soy', 'oregano', 'clove', 'honey', 'bread', 'thyme', 'mayonnaise', 'flakes', 'lime', 'soup', 'mushrooms', 'unsalted', 'cilantro', 'chips', 'paprika', 'bacon', 'light', 'nutmeg', 'sweet', 'hot', 'skinless', 'cayenne', 'italian', 'extra', 'breasts', 'cooked', 'pork', 'yellow', 'carrots', 'coconut', 'virgin', 'worcestershire', 'peppers', 'stock', 'cornstarch', 'syrup', 'leaf', 'seeds', 'breadcrumbs', 'wheat', 'carrot', 'sesame', 'mushroom', 'paste', 'spinach', 'pineapple', 'zest', 'apple', 'bay', 'pasta', 'peanut', '&', 'granulated', 'powdered', 'diced', 'heavy', 'mozzarella', 'crushed', 'yogurt', 'breast', 'pecans', 'cocoa', 'cooking', 'walnuts', 'dijon', 'kosher', 'ice', 'margarine', 'instant', 'low-fat', 'coriander', 'plain', 'dark', 'seed', 'nuts', 'lettuce', 'almonds', 'rosemary', 'yeast', 'shrimp', 'pie', 'buttermilk', 'unsweetened', 'dill', 'raisins', 'sausage', 'cider', 'peas', 'chilies', 'jalapeno', 'zucchini', 'oats', 'olives', 'lean', 'noodles', 'dressing', 'canola', 'broccoli', 'apples', 'condensed', 'whipping', 'baby', 'ketchup', 'curry', 'balsamic', 'sliced', 'ham', 'turkey', 'cake', 'sea', 'spray', 'potato', 'mint', 'lemon,', 'fillets', 'tortillas', 'cabbage', 'jack', 'pumpkin', 'almond', 'shortening', 'salsa', 'halves', 'cherry', 'chives', 'canned', 'bouillon', 'coffee', 'half-and-half', 'freshly', 'whites', 'monterey', \"confectioners'\", 'allspice', 'fat-free', 'feta', 'turmeric', 'banana', 'chopped', 'strawberries', 'in', 'whipped', 'bananas', 'sweetened', 'semi-sweet', 'salad', 'maple', 'spaghetti', 'pudding', 'boiling', 'rind', 'mixed', 'sage', 'low', 'cranberries', 'sharp', 'sodium', 'prepared', 'steaks', 'cucumber', 'fish', 'rum', 'evaporated', 'yolks', 'french', 'sherry', 'coarse', 'smoked', 'salmon', 'substitute', 'ribs', 'nonfat', 'cornmeal', 'cracker', 'roasted', 'swiss', 'whip', 'squash', 'scallions', 'skim', 'fat', 'graham', 'blueberries', 'chops', 'with', 'cubes', 'tabasco', 'strawberry', 'molasses', 'roast', 'shallots', 'crumbs', 'kidney', 'steak', 'ricotta', 'cold', 'gingerroot', 'macaroni', 'peanuts', 'gelatin', 'warm', 'shallot', 'applesauce', 'topping', 'avocado', 'asparagus', 'taco', 'cardamom', 'pastry', 'seasoned', 'beer', 'pure', 'food', 'reduced-fat', 'rolls', 'bean', 'plum', 'tuna', 'grain', 'splenda', 'cool', 'liqueur', 'golden', 'cottage', 'apricot', 'fruit', 'crust', 'hamburger', 'vodka', 'rolled', 'active', 'tarragon', 'semisweet', 'puree', 'chile', 'raspberry', 'cauliflower', 'cherries', 'capers', 'cube', 'pieces', 'spice', 'sun-dried', 'barbecue', 'pine', 'ranch', 'free', 'minced', 'peel', 'meat', 'refrigerated', 'blue', 'crackers', 'cereal', 'lamb', 'scallion', 'horseradish', 'liquid', 'oranges', 'shredded', 'toasted', 'tortilla', 'vegetables', 'thighs', 'pizza', 'cranberry', 'unbleached', 'dough', 'artichoke', 'tofu', 'concentrate', 'chipotle', 'quick-cooking', 'peppercorns', 'hearts', 'flaked', 'icing', 'yolk', 'peaches', 'florets', 'crabmeat', 'marshmallows', 'tenderloin', 'fennel', 'slivered', 'jam', 'oatmeal', 'miniature', 'hard-boiled', 'coloring', 'old', 'mango', 'flat', 'chuck', 'marjoram', 'buns', 'romaine', 'chickpeas', 'lentils', 'weed', 'filling', 'penne', 'kernel', 'greens', 'round', 'raspberries', 'creme', 'blend', 'sirloin', 'mashed', 'cracked', 'small', 'sunflower', 'caster', 'loin', 'raw', 'brandy', 'pickle', 'seedless', 'lemons', 'sticks', 'lime,', 'candy', 'stick', 'rib', 'preserves', 'dates', 'granules', 'large', 'grape', 'sprouts', 'medium', 'long', 'cucumbers', 'peach', 'tartar', 'elbow', 'roma', 'chiles', 'english', 'granny', 'smith', 'tea', 'button', 'raisin', 'stewed', 'shells', 'adobo', 'spring', 'shell', 'goat', 'pecan', 'maraschino', 'russet', 'firm', 'wedge', 'sugar-free', 'cashews', 'kalamata', 'mexican', 'avocados', 'mild', 'velveeta', 'creamy', 'mandarin', 'flax', 'masala', 'de', 'leeks', 'jalapenos', 'crescent', 'reduced-sodium', 'soymilk', 'herbs', 'salted', 'soft', 'eggplant', 'pesto', 'pinto', 'chunks', 'romano', 'garam', 'fine', 'butternut', 'poppy', 'slices', 'cookies', 'hash', 'saffron', 'lasagna', 'hoisin', 'greek', 'mini', 'lemons,', 'caraway', 'fillet', 'biscuits', 'chinese', 'american', 'stuffing', 'chestnuts', 'grapes', 'crusts', 'tart', 'bisquick', 'pears', 'portabella', 'bran', 'pepperoni', 'smoke', 'couscous', 'relish', 'herb', 'chickens', 'bittersweet', 'butterscotch', 'kernels', 'oyster', 'refried', 'leek', 'top', 'provolone', 'barley', 'new', 'poultry', 'cajun', 'angel', 'jelly', 'fettuccine', 'linguine', 'puff', 'pita', 'tequila', 'dinner', '2%', 'part-skim', 'nonstick', 'marshmallow', 'sprig', 'long-grain', 'berries', 'garbanzo', 'gruyere', 'prosciutto', 'wild', 'breadcrumb', 'basmati', 'marmalade', 'jell-o', 'caramel', 'sauerkraut', 'ripe', 'cornflour', 'gravy', 'flavored', 'chunky', 'self', 'pitted', 'panko', 'slice', 'espresso', 'snow', 'orange,', 'eggplants', 'cannellini', 'germ', 'packed', 'thai', 'lemonade', 'walnut', 'scallops', 'limes', 'table', 'catsup', 'essence', 'serrano', 'wings', 'parmigiano-reggiano', 'self-rising', 'pearl', 'deli', 'granular', 'rye', 'pods', 'meal', 'flat-leaf', 'shiitake', 'rotel', 'oat', 'flavor', 'cookie', 'nectar', 'squares', 'bits', 'gold', 'kahlua', 'flavoring', 'enchilada', 'reduced', 'bars', 'tahini', 'quick', 'orzo', 'iceberg', 'flank', 'anise', 'sourdough', 'sausages', 'teriyaki', 'fashioned', 'brewed', 'arugula', 'miracle', 'bourbon', 'stew', 'irish', 'vidalia', 'crisco', 'phyllo', 'pea', 'frosting', 'rhubarb', 'candied', 'cocktail', 'head', 'chip', 'unflavored', 'tapioca', 'lemongrass', 'roll', 'apricots', 'hazelnuts', 'macadamia', 'original', 'quinoa', 'spicy', 'unbaked', 'baguette', 'kielbasa', 'low-sodium', 'creamed', '1%', 'anchovy', 'veal', 'sprigs', 'yukon', 'amaretto', 'cut', 'creole', 'spanish', 'whiskey', 'grapefruit', 'floret', 'mangoes', 'peppermint', 'brussels', 'ale', 'shoulder', 'pear', 'beets', 'asiago', 'style', 'hair', 'spread', 'chorizo', 'pickled', 'marinara', 'coleslaw', 'cream-style', 'spices', 'browns', 'kiwi', 'ritz', 'pistachios', 'clams', 'raising', 'berry', 'baked', 'oreo', 'pomegranate', 'limes,', 'blanched', 'tilapia', 'poblano', 'fraiche', 'capsicum', 'chunk', 'club', 'mascarpone', 'chutney', 'arborio', 'candies', 'sandwich', 'stuffed', 'currants', 'vegan', 'kale', 'schnapps', 'bags', 'tamari', 'pimiento', 'roasting', 'brie', 'tortellini', 'self-raising', 'cornbread', 'peppercorn', 'triple', 'rising', 'double', 'grenadine', 'fudge', 'sec', 'marinated', 'vinaigrette', 'ramen', 'bamboo', 'northern', 'alfredo', 'krispies', 'wonton', 'crumb', 'wafer', 'salami', 'great', 'choy', 'pickles', 'cod', 'bulk', 'soya', 'pimento', 'watermelon', 'saltine', 'grand', 'marnier', 'wrappers', 'bok', 'champagne', 'prawns', 'mace', 'ancho', 'stewing', 'popcorn', 'pancetta', 'mirin', 'gorgonzola', 'split', 'wide', 'superfine', 'black-eyed', 'dogs', 'corned', 'ghee', 'spears', 'radishes', 'curd', 'okra', 'strong', 'starch', 'melon', 'sprout', '9-inch', 'gluten-free', 'pickling', 'lard', 'smooth', 'pectin', 'vermouth', 'pink', 'tie', 'bow', 'legs', 'brisket', 'rotini', 'jumbo', 'biscuit', 'gouda', 'colby-monterey', 'crystallized', 'blackberries', 'rose', 'protein', 'eye', 'gluten', 'parsnips', 'cacao', 'thread', 'radish', 'wafers', 'natural', 'stems', 'real', 'cremini', 'toffee', 'gum', 'marsala', 'italian-style', 'pecorino', 'sprinkles', 'lump', 'purple', 'picante', 'creamer', 'muffin', 'leave', 'snap', 'agave', 'star', 'summer', 'minute', 'cantaloupe', 'sweetener', 'chex', 'pretzel', 'guacamole', 'distilled', 'tenders', 'clam', 'fontina', 'yoghurt', 'pistachio', 'skewers', 'brand', 'dijon-style', 'brownie', 'crunchy', 'vegetarian', 'simply', 'fast', 'foil', 'port', 'nutritional', 'drink', 'bulb', 'croutons', 'wedges', 'halibut', 'base', 'crab', 'dessert', 'meatballs', 'non-fat', 'cashew', 'valley', 'currant', 'wasabi', 'muffins', 'tidbits', 'lite', 'leg', 'figs', 'lima', 'drumsticks', 'pillsbury', 'hidden', 'savory', 'caramels', 'extra-sharp', 'imitation', 'artificial', 'carbonated', 'root', 'tamarind', 'vermicelli', 'sake', 'desiccated', 'hungarian', 'xanthan', 'herbes', 'cutlets', 'dog', 'navy', 'five', 'five-spice', 'lemon-lime', 'chard', 'bicarbonate', 'delicious', 'paper', 'lipton', 'silken', 'chestnut', 'rigatoni', 'watercress', 'french-fried', 'non-dairy', 'artichokes', 'fenugreek', 'rings', 'drippings', 'popped', 'deep', \"devil's\", 'habanero', 'acorn', 'rubbed', 'ziti', 'cognac', 'dish', 'provence', 'crouton', 'papaya', 'polenta', 'mein', 'mussels', 'fruits', 'pimientos', 'caps', 'for', 'pretzels', 'jasmine', 'beverage', 'napa', 'crusty', 'breakfast', 'half', 'gin', 'palm', \"campbell's\", 'chili-garlic', 'chow', 'blackberry', 'aluminum', 'consomme', 'granola', 'machine', 'plums', 'fried', 'toast', 'starter', 'solid', 'thick', 'philadelphia', 'heart', 'wooden', 'liver', 'seafood', 'sherbet', 'lavender', 'parsnip', 'key', 'dip', 'spareribs', 'curacao', 'miso', 'kraft', 'beet', 'lentil', 'turnip', 'nut', 'no-salt-added', 'baileys', 'flake', \"m&m's\", 'canadian', 'bottled', 'andouille', 'jicama', 'country-style', 'sparkling', 'tomatillos', 'scotch', 'ravioli', 'beaters', 'thin', \"lawry's\", 'queso', 'karo', 'turnips', 'sultana', 'sheets', 'cola', 'pancake', 'crisp', 'cane', 'marinade', 'mahi', 'pam', 'prunes', 'cointreau', 'yams', 'neufchatel', 'reduced-calorie', 'venison', 'duck', 'links', 'navel', 'a.1.', 'pimentos', 'jello', 'malt', 'grainy', 'bulgur', 'uncooked', 'catfish', 'accent', 'bun', 'semolina', 'short', 'hoagie', 'kaffir', 'morsels', 'butt', 'noodle', 'dash', 'back', 'masa', 'wax', 'tasty', 'cups', 'rump', 'natural-style', 'buckwheat', 'hominy', 'simple', 'mrs.', 'blueberry', 'dutch-processed', 'bouquet', 'kaiser', 'caesar', 'island', 'thousand', 'snapper', 'prune', 'tater', 'center-cut', 'tots', 'broiler-fryer', 'sambal', 'chocolate-covered', 'colby', 'eggnog', 'grits', 'oranges,', 'nutella', 'season', 'liquor', 'hard', 'all', 'idaho', \"mccormick's\", 'sprite', 'montreal', 'hershey', 'all-bran', 'bone', 'v8', 'limeade', 'mexican-style', 'pepperoncini', 'hass', 'butter-flavored', 'granule', 'matzo', 'wraps', 'grapeseed', 'oelek', 'farfalle', 'thigh', 'string', 'craisins', 'spiral', 'stout', 'jiffy', 'breads', 'country', 'purpose', 'lobster', 'shanks', 'edamame', \"hellmann's\", 'stevia', 'bag', 'cheerios', 'shavings', 'unsifted', 'short-grain', 'extra-large', 'anchovies', 'diet', 'harina', 'southern', 'anaheim', 'burgundy', 'fresco', 'recipe', 'fusilli', 'oysters', 'boston', 'filet', 'japanese', 'german', 'frying', 'tenderloins', 'muenster', 'fig', 'sultanas', 'ciabatta', 'bulbs', 'harissa', 'crystals', 'bar', 'glace', 'rounds', 'strips', 'tiny', 'double-crust', 'stove', 'lowfat', 'tomatillo', 'flowers', 'processed', 'honeydew', 'shoots', 'albacore', 'kisses', 'pulp', 'dal', 'louisiana', 'porcini', 'vital', 'alfalfa', 'hardboiled', 'clear', 'hickory', 'nacho', 'chick-peas', 'heinz', 'arrowroot', 'trout', 'skewer', 'turbinado', 'grease', 'strip', 'tops', 'frangelico', 'menthe', 'chop', 'chambord', 'stem', 'vanilla-flavored', 'manicotti', 'sole', \"frank's\", 'verde', 'crispy', 'racks', 'hummus', 'hard-cooked', 'lemon-pepper', 'buffalo', 'safflower', 'plantains', 'bonnet', 'spear', 'skirt', 'sriracha', 'havarti', 'cornish', 'toothpick', 'shoot', 'segments', 'colored', 'tip', 'hazelnut', 'curls', 'pumpernickel', '7-up', 'collard', 'mung', 'whiz', 'bark', '9', 'cardamoms', 'nori', 'passion', 'bitters', 'endive', 'polish', 'kitchen', 'flounder', 'msg', 'balls', 'inch', 'custard', 'mince', 'preserved', 'converted', 'madeira', 'haddock', 'catalina', 'guinness', 'malted', 'scallop', 'savoy', 'baguettes', 'tangerine', 'the', 'soba', 'clarified', 'midori', 'millet', 'cob', 'coating', 'bratwursts', 'oleo', 'hens', 'sifted', 'on', 'rotisserie-cooked', 'coca-cola', 'ladyfingers', 'link', 'rocket', 'gingersnap', 'spelt', 'rise', 'asafoetida', 'braggs', 'ginger-garlic', 'mincemeat', 'aminos', 'piece', 'mexicorn', 'smart', 'grey', 'balance', 'doritos', 'steel', 'seasonings', 'radicchio', 'jellied', 'bass', 'asian', 'pod', 'stone', 'bagels', 'bibb', 'spam', 'no-boil', 'hocks', 'fries', 'parts', 'fajita', '98%', 'wrap', 'shortcrust', 'blossom', 'cubed', 'steamed', 'blood', 'sheet', 'good', 'glaze', 'croissants', 'pot', 'comfort', 'crawfish', 'carob', 'kool-aid', 'seltzer', 'unseasoned', 'chive', 'chervil', 'avocadoes', 'orange-flavored', 'manchego', 'capsicums', 'grilled', 'coke', 'roquefort', 'old-fashioned', 'flower', 'demerara', 'gnocchi', 'sweet-and-sour', 'textured', 'fritos', 'single', 'shaped', 'twists', 'water-packed', 'sazon', 'assorted', 'squid', 'amarula', 'skins', 'juniper', 'malibu', 'spiced', 'square', 'brine', 'goya', 'bulgar', 'rutabaga', 'papayas', 'eagle', 'sumac', 'jerk', 'nectarines', 'guava', 'patties', 'poundcake', 'hock', 'thickened', 'stilton', 'garlic-flavored', 'fryer', 'bones', 'beefsteak', 'burrito-size', 'swordfish', 'breadstick', 'traditional', 'gallo', 'rock', 'ruby', 'process', 'shortbread', 'pico', 'fire-roasted', 'grapefruits', 'stale', 'escarole', 'crystal', 'fry', 'mignon', 'double-acting', 'szechuan', 'heads', 'madras', '8-inch', 'tempeh', 'gherkins', \"emeril's\", 'lager', 'daniels', 'stir', 'oriental', 'sorbet', 'wood', 'limoncello', 'equal', 'bosc', 'veggie', 'shoepeg', 'belgian', 'niblets', 'honey-roasted', 'center', 'gala', 'toothpicks', 'courgettes', 'chicken-flavored', 'salt-free', 'poupon', 'streaky', 'morsel', 'genoa', 'focaccia', 'solid-pack', 'ro-tel', 'el', 'garni', 'kirsch', 'quaker', 'galangal', 'day-old', 'whey', 'chickpea', 'broad', 'hawaiian', 'no-sugar-added', 'fingerling', 'nestle', 'york', 'tail', 'dream', 'gram', 'sorghum', 'fava', 'product', 'daikon', \"french's\", '10-inch', 'mexico', 'quarters', 'stir-fry', 'mixture', 'jarlsberg', 'sushi', 'ditalini', 'chardonnay', 'angostura', 'lobsters', 'absolut', 'winter', 'pack', 'merlot', 'citron', 'smokies', 'rice-a-roni', 'whisky', 'hersheys', 'bleu', 'soybeans', 'canning', 'lebanese', 'udon', 'roughy', 'low-carb', 'bacardi', 'au', 'king', 'snickers', 'wing', 'bartlett', 'cheez', 'tails', 'crumbles', 'little', 'fiber', 'london', 'hanout', 'ras', 'light-brown', 'parmigiano', 'truffle', 'loaf', 'dashi', 'bologna', 'texas', 'boursin', 'blackstrap', 'ouzo', 'ring', 'homemade', 'cakes', 'gherkin', 'sections', 'achiote', 'broil', 'spearmint', 'sodium-free', '6-inch', 'bottom', 'challah', 'boiled', 'halloumi', 'rigate', 'knorr', 'maggi', 'oil-cured', 'spreadable', 'cheesecake', 'puffed', 'one', 'file', 'threads', 'pimento-stuffed', 'calvados', 'tap', 'cinnamon-sugar', 'reynolds', 'parchment', 'seaweed', 'heath', 'grape-nuts', 'cheese-filled', 'mcintosh', 'house', 'shelled', 'jamaican', 'godiva', 'fuji', 'blossoms', \"za'atar\", 'rub', 'franks', 'tenderizer', 'boil', 'muscovado', 'manis', 'ketjap', 'buttery', 'popsicle', 'section', 'pepitas', 'hormel', 'dry-roasted', 'gingersnaps', 'cavatappi', 'yam', 'sauvignon', 'a', 'margarita', 'panir', 'russian', 'pound', 'carnation', 'ear', 'season-all', 'kumara', 'four-cheese', 'hines', 'rutabagas', 'duncan', 'cuts', 'beetroots', 'orecchiette', 'joe', 'grands', 'risotto', 'sloppy', 'livers', 'blade', 'tagliatelle', 'slab', 'skor', 'edible', 'tri-color', 'ears', 'fast-rising', 'chevre', 'healthy', 'corkscrew', 'flaky', \"hershey's\", 'cream-filled', \"reese's\", 'meatless', 'crepes', 'bagel', 'cow', 'multi-grain', 'di', 'ready-made', 'hazelnut-flavored', 'annatto', 'laughing', 'zinfandel', 'suet', 'sweetcorn', 'dutch', 'coffee-flavored', 'unsulphured', '57', 'chilis', 'paraffin', 'meatloaf', 'supreme', 'camembert', 'emmenthaler', 'twist', 'southwest', 'colada', 'sofrito', 'sucanat', 'tangerines', 'mccormick', 'decorating', 'pina', 'party', 'without', 'con', 'tiger', \"o'brien\", '9\"', 'toll', 'sponge', 'celeriac', 'plantain', 'shoyu', 'cotija', 'dripping', 'arbol', 'crispix', 'bing', 'pre-shredded', 'citrus', 'pan', 'citrus-infused', 'snacks', 'brazil', 'boboli', 'melts', 'mountain', 'dr.', 'rabbit', 'crunch', 'decorative', 'request', 'grahams', 'browning', 'betty', 'acid', 'aubergines', 'carcass', 'dehydrated', 'bocconcini', 'seitan', 'vegemite', 'pasilla', 'crabs', 'guar', 'haricots', 'guajillo', 'nuggets', 'pace', 'vert', 'mostaccioli', 'brioche', 'crocker', 'cutlet', 'grouper', 'mints', 'nam', 'amaranth', 'cabernet', 'aged', 'ziploc', 'strands', 'walla', 'slaw', \"baker's\", 'mineral', 'gel', 'shank', 'breaded', 'burgers', 'i', 'riesling', 'caribbean', \"can't\", 'believe', \"it's\", 'herbed', 'not', '35%', 't-bone', 'buttered', 'floury', 'full-fat', 'pastrami', 'free-range', 'chablis', 'buds', 'marzipan', 'dulce', 'dipping', 'hollandaise', 'littleneck', 'cellophane', 'leche', 'porridge', 'punch', 'farmer', 'tzatziki', 'barbecued', 'cheesecloth', 'seasons', 'crema', \"m&m'\", 'rack', 'nicoise', 'prime', 'maria', 'szechwan', 'banane', 'monde', 'courgette', 'forest', 'butterfinger', 'decorator', 'chai', 'beau', 'chia', 'farm', 'shake-n-bake', 'alum', 'chocolates', 'parma', 'gummy', 'tia', 'amaretti', 'cones', 'special', 'mesclun', 'baby-back', 'passata', 'best', 'wesson', 'red-hot', 'rag', 'galliano', 'saltines', 'nestl', 'birds', 'batter', 'calamari', 'family-size', 'jimmy', 'dean', 'tandoori', 'pepperidge', 'dew', 'medal', 'rabe', 'frankfurters', 'naan', 'verbena', 'capellini', 'digestive', 'mesquite', 'pepsi', 'microwave', \"goat's\", 'campari', 'groats', 'perrins', 'frisee', 'cassis', 'spaghettini', 'lea', 'oriental-flavor', 'citric', '90%', 'heirloom', 'treacle', 'nigella', 'sardines', 'israeli', 'licorice', 'meyer', 'giblets', 'beef-flavor', 'crookneck', 'blackening', 'husks', 'urad', 'anjou', 'curly-leaf', 'tapenade', 'tri-tip', 'edam', 'straw', 'hunts', 'bermuda', 'jus', 'nectarine', 'wondra', 'multigrain', 'waffles', 'kikkoman', 'neck', 'k', 'pockets', 'tony', 'farina', \"chachere's\", 'drummettes', 'ahi', 'ready-to-bake', \"'n\", 'wrapper', 'bubbles', 'aniseed', 'caviar', 'oxtails', 'field', 'pappardelle', 'mutton', 'chocolate-flavored', 'channa', 'andes', 'roots', 'matzos', 'curds', 'nonalcoholic', 'hokkien', 'pla', 'pierogies', 'morton', 'lychees', 'cobs', 'kohlrabi', 'wholemeal', 'ready-to-serve', 'quark', 'rotelle', 'goldfish', 'chat', 'gumbo', 'lingonberry', 'lecithin', 'unblanched', 'secrets', 'mortadella', 'canes', 'coco', 'aubergine', 'glazed', 'cheez-it', 'iced', 'tonic', 'cinnamon-swirl', 'rindless', 'hen', 'gratin', 'dungeness', 'swanson', 'melba', 'bechamel', 'rib-eye', 'yucca', 'belly', 'clamato', 'cap', 'breadsticks', 'kumquats', 'petals', 'backfin', 'wheel', 'tang', 'plastic', 'broiler', 'gingerbread', 'taco-size', 'way', 'milky', 'mochiko', 'mackerel', 'four', 'date', 'besan', 'jaggery', 'low-calorie', 'wash', 'drambuie', 'uncle', 'non-hydrogenated', 'cubanelle', 'methi', 'cranberry-raspberry', 'cantaloupes', 'sumaq', 'no-added-salt', 'dips', 'japanese-style', 'gourmet', 'herring', 'bratwurst', 'ragu', 'strand', 'fiesta', 'alcohol', '80%', 'bone-in', 'quick-rising', 'longhorn', 'cornichons', 'sorrel', 'tips', 'sel', 'shirataki', 'fleur', 'wagon', 'pigeon', 'epazote', 'veg-all', 'beetroot', 'lopez', 'linguica', 'danish', 'moist', \"libby's\", 'pierogi', 'lettuces', 'broccolini', 'calorie', 'clementines', 'hemp', 'ball', 'no', 'flakey', 'organic', 'berbere', 'ponzu', 'pattypan', 'm&m', 'marmite', 'capicola', 'waffle', 'worms', 'shaoxing', 'favorite', 'shoestring', 'fusion', 'your', 'ener-g', 'meringue', 'dandelion', 'rolo', 'sundae', 'culantro', 'rich', 'caper', 'parmesan-romano', 'persimmon', 'tamales', 'calf', \"rose's\", 'nutmeats', 'baharat', 'biscotti', 'chanterelle', 'turkish', 'cedar', 'balm', 'pinot', 'quail', 'mizithra', 'porterhouse', 'alphabet', 'x-rated', 'twinkies', 'kiss', 'habaneros', 'submarine', 'pernod', 'twin', 'certo', 'hostess', 'demi-glace', 'giant', 'compressed', 'earth', 'polska', 'tawny', 'marrow', 'kelp', 'muesli', 'nesquik', 'soybean', 'adzuki', '100%', 'san', 'marzano', 'pineapple-orange', 'hibiscus', 'pickapeppa', 'dumplings', 'blackberrie', 'fermented', 'pocket', 'california-blend', 'fines', 'manwich', 'enhancer', 'jar', 'frito', 'acini', 'pepe', 'alcoholic', 'pilaf', 'low-sugar', 'cupcake', '18%', 'elephant', 'puffs', 'pheasant', 'asadero', 'lardons', 'deluxe', 'perch', 'chamomile', 'jerusalem', 'foods', 'silver', 'piquillo', 'oven', 'covered', 'classic', 'patty', 'chayotes', 'french-cut', 'oven-roasted', 'decaffeinated', 'swede', 'bliss', 'prego', 'glutinous-rice', 'wakame', 'royal', 'medium-dry', 'gumdrop', 'tostadas', 'agar-agar', 'cavenders', 'herb-seasoned', 'toppings', 'teff', 'sauterne', 'deviled', 'regular', 'tropical', 'toblerone', 'honeydews', 'burger', 'petal', 'taro', 'jeera', 'tubes', 'halve', 'spike', 'hp', 'amish', 'bitter', 'garlic-infused', 'kirby', 'cannelloni', 'macaroons', 'dijonnaise', 'pheasants', 'twine', 'lumpia', 'persimmons', 'cake-and-pastry', 'snaps', 'legs-thighs', 'concentrated', 'garden', 'grass', 'serve', 'sandwiches', 'mole', 'no-bean', 'teddy', 'dairy-free', 'tomatoe', 'california', 'lychee', 'single-crust', 'grill', 'roe', 'chianti', 'ready', \"coleman's\", 'pollock', 'sticky', 'cordial', 'ortega', 'mrs', 'mars', 'pate', 'pekoe', 'tender', 'ovaltine', 'hing', 'bonito', 'cachaca', 'bottoms', \"bird's\", 'iron', 'reduced-sugar', 'beefy', 'kasseri', 'extra-firm', 'goose', 'roux', 'farms', 'frankfurter', 'deer', 'standing', '151', 'sambuca', 'quinces', 'goji', 'liners', 'braeburn', 'rainbow', 'portuguese', 'giardiniera', \"smucker's\", 'packaged', 'praline', 'nuoc', 'chicory', 'cinnamon-raisin', 'blanc', 'goldschlager', 'glutinous', 'home', '10%', 'monkfish', 'brickle', 'live', 'lovage', 'stone-ground', 'nonpareils', 'octopus', 'homogenized', 'scallopini', 'gumdrops', 'tri-colored', 'noyaux', 'minestrone', 'croissant', 'plank', 'seven-grain', 'premium', 'clementine', 'grated', 'animal', 'morningstar', 'y', 'xylitol', 'curly', 'helper', 'brut', 'amber', '93%', 'tripe', 'steak-ums', 'ghirardelli', 'chayote', 'frosted', 'grind', 'lightly', 'scalloped', 'herbal', 'cup', 'teabags', '95%', 'unpopped', 'kefalotiri', 'casing', 'fresca', 'lemon-flavored', 'zesty', 'captain', 'pancakes', 'lightly-salted', 'lavash', '85%', 'sure-jell', 'chipped', 'wishbone', 'elk', 'daiquiri', 'noir', 'gooseberries', 'lox', 'asian-style', 'parboiled', 'corona', 'lo', 'bird', 'bearnaise', 'cranberry-apple', 'progresso', 'realemon', 'campanelle', 'sprinkle', 'radiatore', 'vitamin', 'braunschweiger', \"ben's\", 'psyllium', 'hpnotiq', 'mary', 'gemelli', 'chocolate-flavor', \"fleischmann's\", \"pig's\", 'ammonia', 'salata', 'pop', 'stolichnaya', 'korean', 'maui', 'finely', 'apple-smoked', '12-inch', 'cos', 'feet', 'copha', 'three-cheese', 'bloody', 'orgeat', 'boil-in-the-bag', 'shortcut', 'ajwain', 'glitter', 'piri-piri', 'bugles', 'choi', 'dairy', 'triscuit', 'medallions', 'basic', 'pureed', 'manzanilla', 'morel', 'loops', 'premade', '15', 'chihuahua', 'all-fruit', \"cap'n\", 'doughnuts', 'sockeye', 'mulberries', 'delicata', 'mange-touts', 'super', 'condiments', 'pastina', 'tofutti', 'gizzard', 'lime-flavored', 'blanco', 'enriched', 'orange-infused', 'gai', 'fromage', 'fructose', 'tasso', 'rhodes', 'lan', 'shark', 'ultimate', 'cajun-style', 'pamelas', 'bucatini', 'game', 'cactus', 'macadamias', 'crown', 'cornichon', 'cling', 'conch', 'scoops', 'pak', 'lollipop', 'recaito', 'oaxaca', 'c', 'pandan', 'kombu', 'mousse', 'coffee-mate', 'niblet', 'satay', 'gyoza', 'oxo', 'very', 'calimyrna', 'kidneys', 'peg', 'turtle', 'major', 'low-moisture', 'jars', 'buttercream', 'matcha', 'farro', 'rapeseed', '96%', 'prosecco', 'everclear', 'grapefruit,', 'kabocha', 'rabbits', 'side', 'prickly', 'soap', 'tom', 'velvet', 'dulse', 'earl', 'butterfly', 'fondant', 'juices', 'kefir', 'shoe', 'swirled', 'spaetzle', 'bit', 'schnitzels', 'dole', 'chapati', 'sago', 'paneer', 'full-bodied', 'needles', 'toor', 'quahogs', 'surimi', 'pignolis', 'yolk-free', 'brine-cured', 'cappuccino', 'yellowfin', 'kangaroo', 'nibs', 'nutter', 'hellmanns', 'remoulade', 'triscuits', 'pebbles', 'layers', 'lingonberries', 'coconuts', 'smarties', 'pasteurized', 'peasant', 'refined', 'european', 'medium-grain', 'fire', 'aioli', 'farfel', 'bisto', 'huckleberries', 'necks', 'raclette', 'blended', 'caramelized', 'kasha', 'unrefined', 'mission', 'worchestershire', '8', 'skinned', 'pomegranates', 'bens', 'strawberry-flavor', 'leafy', 'bleached', 'limon', 'kimchi', 'tempura', 'glycerin', 'tex-mex', 'vienna', 'souffle', 'english-style', 'lemonade-flavored', 'hake', 'chowder', 'cupcakes', 'glucose', 'cassava', 'browner', 'suey', 'egg-whites', 'hood', 'bunches', 'moose', 'pete', 'framboise', 'jagermeister', 'starters', 'thins', 'sloe', 'pappadams', 'char', 'grillers', 'unsmoked', 'siu', '15%', 'cross-rib', 'lily', 'calrose', 'haricot', 'budweiser', 'towels', 'liverwurst', 'pike', 'frais', 'umeboshi', 'barberries', 'ducks', 'extra-light', 'crabapples', 'brownies', 'morels', 'drumstick', 'globe', 'quik', 'oriental-style', 'clover', 'sparerib', 'angelica', 'originals', 'elderflower', 'masoor', 'cranberry-orange', 'magic', 'honey-wheat', 'planters', 'plus', 'kasuri', 'chourico', 'infant', 'pineapple-orange-banana', 'truffles', 'aji', 'reddi-wip', 'leather', \"brewer's\", 'cases', 'del', 'pinhead', 'size', 'peels', 'blackened', 'butter!', 'monte', 'caesar-flavor', 'matzohs', 'vol-au-vent', 'casings', 'wine-cured', 'ocean', 'enoki', 'weet-bix', 'mill', 'cavatelli', 'ladyfinger', 'romana', 'frank', 'spirulina', 'hugs', 'kumquat', 'somen', 'milo', 'charcoal', \"meyer's\", 'darjeeling', 'serranos', 'nasturtium', 'multicolored', 'strings', 'locatelli', 'stickers', '43', 'bisque', 'husk', 'conchiglie', 'johnsonville', 'replacer', 'nips', 'patis', 'robin', 'small-curd', \"kellogg's\", 'ajinomoto', 'kit', 'nature', 'fruity', 'soured', 'made', 'dumpling', 'crayfish', 'advocaat', \"morgan's\", 'shin', 'bruschetta', 'applejack', 'filberts', 'in.baked', 'bite-size', 'bella', 'nutmegs', 'homestyle', 'kashmiri', 'flesh', 'ramps', 'peri-peri', 'bacos', 'wattleseed', 'myrtle', 'pig', 'sweet-hot', 'nabisco', 'rome', 'creme-filled', 'trail', 'snails', 'cholesterol-free', 'garnet', 'licor', \"dash's\", 'clotted', 'mcbutter', 'aleppo', 'confectionary', 'yogurt-covered', 'mafalda', 'classico', 'bream', 'marlin', 'laurel', 'oil-and-vinegar', 'molly', 'truvia', 'nondairy', 'roasts', 'bull', 'elderberries', 'dove', 'amchur', 'chee', 'kim', 'crumpets', 'goddess', 'dense', 'southwest-style', 'aromatic', 'bovril', 'scapes', 'violets', 'apricot-pineapple', 'young', 'iodized', 'buttercup', 'fisher', 'cuban', 'fajita-size', 'curing', 'cassia', 'concord', 'starkist', 'honey-baked', 'escargot', 'ranch-style', 'jerky', 'kix', 'arabic', 'chinkiang', 'grigio', 'alligator', 'crostini', 'other', 'crisps', 'castle', 'marble', 'chilie', 'chiffonade', 'ditali', 'gem', 'swedes', 'filets', 'jel', 'cheese-flavored', 'taleggio', 'bob', 'borlotti', 'no-stick', 'hamburgers', 'coarse-ground', 'four-bean', \"dale's\", 'candlenuts', \"n'\", 'medium-sized', 'cham', 'frogs', 'guavas', 'essential', 'moroccan', 'kluski', 'time', 'pork-flavored', 'anejo', 'panettone', 'azuki', 'up', 'mac', 'toffee-flavored', 'red-leaf', 'marie', 'saltpeter', 'mocha', '97%', 'schmaltz', 'basa', 'kirschwasser', 'becel', 'bear', 'western', 'sum', 'lactose-free', 'arm', 'weetabix', 'buddig', 'large-curd', 'lambs', 'meat-filled', 'tartaric', 'rockfish', 'miniatures', 'hungry', 'barbeque', 'bock', 'snack', 'cortland', 'peppadew', 'beverages', 'full', 'stuff', 'feijoas', 'jonathan', 'spoons', 'skin', 'ribbon', 'pops', 'muscat', 'unpeeled', 'mayer', 'galanga', 'oscar', 'togarashi', 'master', 'krazy', 'moong', \"morton's\", 'wok', 'champignon', 'appetit', \"jane's\", 'aunt', 'yoshida', 'tubetti', 'breeze', '3', 'bon', 'non-iodized', 'fiddleheads', 'cultured', 'chilli', 'mirepoix', '10x', 'portions', 'boysenberries', 'burritos', 'kefalotyri', 'maytag', 'sun', 'seuer', 'le', 'endives', 'mori-nu', 'mixed-grain', 'bluefish', 'delight', 'paso', 'mist', 'martha', 'konbu', 'hijiki', 'energy', 'funghi', 'rinds', 'durkee', 'in.', 'garfava', 'sardine', 'butterhead', 'tongue', 'trans-fat', 'parrot', 'filo', 'zwieback', 'escalopes', 'bel', 'paese', 'fontinella', \"durkee's\", 'pigs', 'claw', 'french-style', 'strawberry-banana', 'drop', 'momokawa', 'fresno', 'appenzeller', 'raspberry-flavored', 'bbq', 'shiraz', 'meringues', 'better-than-cream-cheese', 'butterflied', 'medley', 'mulling', 'carb', 'heather', 'kamut', \"bob's\", 'three', 'grana', 'padano', 'anisette', 'gizzards', 'block', 'geranium', 'claws', 'smelt', 'roni', 'campbell', 'soul', 'oreos', 'added', 'boca', 'cipollini', 'kashi', 'shiso', 'post', 'peppar', 'rapini', 'mint-flavored', 'raspberry-lemonade', 'parkay', 'mature', 'laos', 'freezer', 'shortcakes', 'kat', 'peppered', 'cotton', 'cranberry-grape', 'benedictine', 'lifesavers', 'omega', 'burrito', 'molds', 'raspberry-cranberry', 'steak-style', 'miss', 'nopales', 'de-fatted', 'artisan', 'full-cream', 'fatback', 'heering', 'carom', 'cress', 'arils', 'skippy', 'mini-wheats', 'canada', 'open', 'fudge-striped', 'joy', '5%', 'petit', 'after', 'ciclon', 'boar', 'comino', 'beurre', 'shapes', 'pit', 'bolognese', 'jambalaya', 'shreddies', 'chicken-apple', 'piloncillo', 'pattie', 'evans', 'calendula', 'kissables', 'pignoli', '3-cheese', 'better', 'formula', 'khoya', 'carne', 'sauternes', 'grains', 'filled', 'drinking', 'backstraps', 'devils', 'cascabel', 'to', 'risoni', 'rooibos', 'peeps', 'cheetos', 'crazy', 'bullion', 'tangerine,', 'jackfruit', 'funfetti', 'kalonji', 'england', 'erythritol', 'porter', 'big', 'fruitcake', 'hubbard', 'hog', 'pawpaw', 'armagnac', 'empanada', 'quick-acting', 'wheatberries', 'cheeseburger', 'metaxa', \"yve's\", 'cracklings', 'azafran', 'atkins', 'complete', \"europe's\", 'furikake', 'goma', 'points', 'choice', 'imported', 'saskatoon', 'brittle', 'fungus', 'bite', \"hunt's\", 'manioc', 'planks', \"orchard's\", 'lawry', 'sambhar', 'trix', 'runner', 'roses', 'knockwurst', 'verjuice', 'tobiko', 'caponata', 'improver', 'blueberry-flavored', 'foot', 'cafe', 'finest', 'all-vegetable', 'proof', 'chokecherry', 'yakisoba', 'linseeds', 'fatty', 'spare', 'anise-flavored', '100', 'segment', 'kurant', 'borax', 'chartreuse', 'packs', 'melons', 'cone', 'cornbread-muffin', 'amino', 'stella', 'steelhead', 'doro', 'cotto', 'panang', '7-inch', '10', 'whitefish', 'garlic-stuffed', 'rods', 'homemade-style', 'gomashio', 'polyunsaturated', 'contadina', 'hokkaido', 'roman', 'ascorbic', 'twix', 'caerphilly', 'walleyed', 'ginseng', 'speck', 'quorn', 'smen', 'wildflower', 'junior', 'breadfruit', 'fuyu', 'maple-flavor', 'regular-strength', 'lace', 'alpine', 'gebhardt', 'durum', 'maize', 'peameal', 'sangria', 'festival', 'matzoh', 'scrod', 'cheeses', 'anasazi', 'jalapeno-stuffed', 'honeycomb', 'baste', 'gray', 'tongues', 'extra-dry', 'cranberry-peach', 'tangerines,', 'wish', 'naturals', \"chef's\", \"german's\", 'dolce', 'singles', 'holy', 'gooseberry', 'seville', 'lsa', 'gras', 'foie', 'marbled', 'cuervo', 'choco-bake', 'lollipops', 'korma', 'bison', 'elderberry', 'sichuan', 'from', 'orange-mango', 'shanghai', 'quince', 'masterpiece', 'steamer', 'non-pareils', 'yuzu', 'touch', 'barrel', 'cooper', 'katakuriko', 'aquavit', 'vie', 'eau', 'tostitos', 'herb-ox', 'padi', 'favorites', 'smithfield', 'draught', 'burdock', 'plate', 'bengal', 'eau-de-vie', 'mead', 'ox', 'montrachet', 'tabbouleh', 'squirrels', 'pitas', 'watchers', 'weight', 'ducklings', \"sweet'n\", 'partridges', 'shitake', 'swirl', 'grilling', 'paradise', 'carp', 'snake', 'lancashire', 'okara', 'dukkah', 'agar', 'dragees', 'multi-bran', 'knuckle', \"frog's\", 'smirnoff', 'lumpfish', 'knackwurst', \"zatarain's\", 'boned', 'riblets', 'lakes', 'fiddlehead', 'mache', 'chili-flavored', 'oil-flavored', 'bottle', 'doughnut', 'eel', 'rava', 'ripple', 'panch', 'phoron', 'creations', 'aloe', 'pirouette', '2-minute', 'delmonte', 'gelato', 'cajun-louisiana', 'cambozola', 'latte', 'soho', 'lotus', 'wasa', 'oils', 'fideos', 'beaujolais', 'diamond', 'ganache', 'lady', 'mediterranean', 'kewra', 'redfish', 'life', 'broccoflower', 'striped', 'land', 'tamarillos', 'topside', 'pilsner', 'taquitos', 'scape', 'holiday', '6', 'carnaroli', 'flageolet', 'thompson', 'absinthe', 'reames', 'success', 'sunny', 'labneh', 'glass', 'terra', 'gjetost', 'detergent', 'violet', 'cherrystone', 'dippers', '10-minute', 'nopalitos', 'container', 'bold', 'carved', 'borage', 'bulls', 'perdue', 'gelling', 'crudites', 'screwpine', 'cherry-flavored', 'nanami', 'masticha', 'menudo', 'yum', 'paul', 'non', 'falafel', \"kikkoman's\", 'burnet', 'broccosprouts', 'syrian', 'candy-coated', 'halva', 'honey-flavored', 'brew', 'no-sugar-needed', 'cooler', \"newman's\", 'fowl', 'tootsie', 'honey-nut', 'claret', 'opah', 'purslane', 'origanum', 'semi-soft', 'baja', 'pocketless', 'ready-to-use', 'injera', 'whiting', 'lightlife', 'rusks', 'cheese-stuffed', 'pumpkins', 'tarama', 'than', 'chewy', 'persian', 'reblochon', 'comte', 'dhaniya', 'beaufort', 'zero', 'fun-size', 'butterfish', 'nettles', 'hatch', 'white-fleshed', 'peeled', 'halvah', 'peapods', 'limo', 'pippin', 'worthington', 'cucuzza', 'tomato-flavored', 'pollen', 'bee', \"bush's\", 'milnot', 'romanesco', 'pickerel', 'fireweed', 'niter', 'kebbeh', 'finger', 'wieners', 'chitterlings', 'mounds', 'apple-raspberry', 'calabaza', 'laksa', 'bavarian-style', 'tabil', 'cantal', 'pisco', 'sandies', 'rose-scented', 'boysenberry', 'kingfish', 'shake', 'savoiardi', 'discos', 'southwestern-seasoned', 'stroganoff', 'nestles', 'yellowtail', 'thousands', 'hundreds', 'sansho', 'shreds', 'no.21', 'chessmen', 'mustard-mayonnaise', 'morgan', 'pequins', 'mulato', 'nostimini', 'ro*tel', 'panca', 'glycerine', 'oatnut', 'seven', 'premier', 'gingernut', 'amaretto-flavored', 'lemon-infused', 'fluffy', 'carambolas', 'epicure', 'chili-style', 'rendered', 'kefalograviera', 'aceto', 'balsamico', 'liempo', 'dashida', 'bordeaux', 'liquorice', 'pomelo', 'pois', 'reserved', 'splash', 'bud', 'fixins', 'plaice', 'barilla', 'wensleydale', 'mojito', 'tabouli', 'delights', 'gloucester', 'rioja', 'lumps', 'suddenly', 'silverside', 'river', 'pomegranate-blueberry', 'allsorts', 'sausage-filled', \"o'\", \"adolph's\", 'cloth', 'garlic-flavor', 'tostados', 'fruit-flavored', 'kashkaval', 'shiro', 'southwestern', 'blintzes', 'zatarians', 'supermoist', 'grappa', 'cloudberries', 'schnitzel', 'carambola', 'rennet', 'mahleb', 'streusel', 'lebanon', 'craisin', 'petits', 'honey-dijon', 'macintosh', 'trifle', 'rajma', 'mocha-flavored', 'ding', 'dills', 'hindquarters', 'pet', 'briskets', 'oxtail', 'o', 'butterball', 'caramel-flavored', 'dong', 'parfait', 'kipfler', 'salts', 'non-alcoholic', 'epsom', 'kamaboko', 'bakin', \"fakin'\", 'acids', 'nutrasweet', 'range', 'saronno', 'bowls', \"nature's\", 'disposable', 'hips', 'gimmie', 'opal', 'pasta-style', 'vermont', 'torani', 'bush', 'charms', 'daeng', 'california-style', 'low-carbohydrate', 'vegeta', 'extra-crunchy', 'kudzu', 'sev', 'shochu', 'combination', 'kombucha', 'high-protein', 'shu', 'anginetti', 'westphalian', 'amour', 'enzyme', 'moo', 'kashk', 'crispbread', 'hi-gluten', 'gingerbread-flavored', 'angus', 'crappie', 'maltesers', 'casaba', 'non-creamy', 'bresaola', 'lucky', 'strawberry-flavored', 'cheesy', 'balkan', 'salba', 'chi', 'girl', 'chicken-style', 'horehound', 'tendrils', 'pearls', 'general', 'newburg', 'egg-free', 'burghul', 'junket', 'turban', 'sierra', 'shichimi-togarashi', 'kha', 'nests', 'yautia', 'montasio', 'alize', 'fe', 'santa', 'steakhouse', '%', 'barramundi', 'nilla', 'tallow', 'gimme', 'down', 'box', 'litter', 'kitty', 'sicilian', 'pralines', 'swans', 'crinkle', 'lillet', 'scooper', 'razor', 'neapolitan', 'pastis', 'commercial', 'pomegranate-cranberry', 'any', 'kimchee', 'brick', 'pooper', 'skittles', 'yabbies', 'meats', 'khus', 'dasheen', 'peking', 'kadaifi', 'capons', 'kimion', 'tac', 'tic', 'squirrel', 'dolcelatte', 'court', 'cantonese', 'ranchero', 'ten-grain', 'rattlesnake', 'unsulfured', 'tuvar', 'clusters', 'valencia', 'capacola', 'rhine', 'manila', 'broken', 'chermoula', 'cachous', 'anglaise', 'herb-flavored', 'orange-peach-mango', 'pre-baked', '35', 'rouladen', 'fully', 'musketeers', 'coriander-cumin', 'cranberry-flavored', 'brummel', 'elegance', 'sunburst', 'saunf', 'pectic', 'mange-tout', 'chloride', 'sundried', 'pimenton', 'battered', 'arrack', 'tamale', 'harusame', 'tonkatsu', 'comb', 'treats', 'waffle-shaped', 'protector', 'pepato', 'produce', 'fruit-fresh', 'panela', 'replacement', 'amarettinis', 'potassium', 'non-stick', 'tablets', 'maid', 'kremelta', 'polo', 'tanqueray', 'conserve', 'kalamansi', 'very-low-sodium', 'chocolate-coated', 'jerry', 'balloons', 'devon', 'luau', 'southeast', 'verjus', 'la', 'desired', 'aji-no-moto', 'scungilli', 'pineapple-coconut', 'carcasses', 'marrowfat', 'soyabean', 'guajillos', 'posole', 'lizano', 'rucola', 'gefilte', 'color', 'salsify', 'shaved', 'sturgeon', 'jell', 'arame', 'glutamate', 'hard-shelled', 'ruth', 'trader', 'laundry', 'cuttlefish', \"joe's\", 'caperberries', 'grands!', 'butterkase', '18', 'partridge', 'cento', 'monosodium', 'trans', 'chokos', 'bears', 'fuzzy', \"richardson's\", 'whitebait', 'cross', \"daniel's\", 'rennin', 'shellfish', 'camp', 'tuscan', 'raccoon', 'crock', 'shedd', 'hachiya', 'tomato-basil', 'mozzarella-provolone', 'nutri-grain', 'gourd', 'horse', 'mirlitons', 'solids', 'dory', 'scamorza', 'vegit', 'anthotiro', 'cannoli', 'friulano', \"farmer's\", 'chili-ready', 'branston', 'lye', 'kabuli', 'dirty', 'muscadine', 'piave', 'st.', 'pale', 'indonesian', 'passionfruit', 'ben', 'pommery', 'stingray', 'squirt', 'indian', 'malaga', 'into', 'torn', 'shiritaki', 'hanger', 'broiled', 'stravecchio', 'rib-eyes', 'or', 'alpha-bits', 'strained', 'eggshells', 'tape', 'vlasic', 'linseed', 'trefoil', \"keen's\", 'hawaij', 'chimichurri', 'pringles', 'coins', 'doves', 'kabsa', 'type', 'nashi', 'stars', 'parker', 'ajvar', 'pista', 'rosebuds', 'kala', 'cadbury', 'freekeh', 'bottlegourd', 'litchis', 'basil,', 'sundrop', 'sashimi-grade', 'loose', 'sicilia', 'fiori', 'herdez', 'cape', 'unbuttered', 'soppressata', 'chokecherries', 'orange-pineapple', 'nutri', 'piquin', '70%', 'provel', 'aguardiente', 'codfish', 'thymol', 'bites', 'intrigue', 'orchid', 'holland', 'cockles', 'star-shaped', 'filter', 'espresso-flavored', 'five-pepper', \"crocker's\", 'masago', 'molukhia', '4', 'chipits', 'daylily', 'joints', 'farmhouse', 'bangers', 'supplement', 'amchoor', 'bajak', 'burst', 'milwaukee', 'butter-nut', 'cran-raspberry', 'countdown', \"cracklin'\", 'tyson', 'blachan', 'spumante', 'asti', 'duds', 'ivory', 'chana', 'couverture', 'sandwich-size', 'tepin', 'folgers', 'cobb', 'manouri', 'achar', 'opo', 'gyro', 'dahl', 'paint', 'grapefruits,', 'snail', 'tilsiter', 'nu-salt', 'sopressata', 'harp', 'halloween', 'isolate', 'rigati', 'franco-american', 'cheshire', 'panini', 'low-cholesterol', 'heineken', 'knuckles', 'succotash', 'saga', 'corm', 'george', 'beat', 'northwest', 'chipotle-flavored', 'haddie', 'finnan', 'chicken-filled', 'dewberries', 'tubettini', 'herbsaint', 'speckled', 'sabra', 'washington', 'comice', 'roll-up', 'loquats', 'viande', 'walleye', 'spinach-cheese', 'coffeecake', 'wheatables', 'alphonso', 'boniato', 'delmonico', 'fingers', 'vera', 'ferns', 'blackcurrant', 'maple-flavored', 'riblet', 'charmagaz', 'release', 'mirliton', 'louis', 'calorie-wise', 'northwoods', 'u-', '12', 'blackfish', 'primavera', 'lilikoi', \"breakstone's\", 'concerto', 'hop', 'kettle', 'mates', 'pepper,', 'papadum', \"trappey's\", 'moro', 'olive-pimento', 'crush', 'anchovy-stuffed', 'whips', \"eggland's\", 'beaumes', 'venise', 'butterbeans', 'straight', 'vanillin', 'tarts', 'squab', 'tam', 'hazel', 'basket', 'nuttter', 'macaroon', 'tikka', 'smuckers', 'blt', 'strudel', 'oil-free', 'acorns', 'jellyfish', 'witch', 'five-grain', 'tim', 'cepes', 'hush', 'puppy', 'rosarita', 'woodruff', 'native', 'rue', 'cheeks', 'pigeons', 'guavaberry', 'imperial', 'flav-r-bite', 'sticker', 'trumpet', 'ensure', 'bangus', 'caribou', 'confit', 'comstock', 'strawberry-raspberry', 'honey-molasses', 'burrata', 'nixtamal', 'yacon', 'marigold', 'egg-roll', 'gravymaster', 'manishevitz', 'amand', 'german-style', 'quicker', 'farl', 'strength', 'avgolemono', 'fabada', 'ho', 'hos', 'gilroy', 'kahlua-flavored', 'bresse', 'loins', 'maltose', 'lattice', 'rusk', 'frito-lay', 'crepe', 'polly-o', 'part', 'vita', 'brits', 'swai', 'cinnamon-nutmeg', 'satsuma', 'lamingtons', 'whoppers', 'fructevia', 'disaronno', 'clever', 'cabana', 'skimmed', 'silicon', 'logs', 'pineapple-mango', 'cheerwine', 'wehani', 'mash', 'deep-dish', 'pumpkin-filled', 'yellow-eyed', \"bell's\", 'softener', 'fabric', 'boyardee', 'crocodile', 'opossum', 'cranberry-blackberry', 'brains', 'sweetbreads', 'chimayo', 'chipits-', 'salt-reduced', 'sapodilla', 'rollo', 'tsuyu', 'pomfret', 'falernum', 'malt-o-meal', 'yard-long', 'bit-o-honey', 'rocks', 'ragi', 'knudsen', 'bubble', 'calcium', 'bavarian', 'half-fat', 'chik', 'chef', 'tangelo', 'crevettes', 'cutter', 'ranchera', 'shepherds', 'mealmaker', 'cleaner', 'raab', 'cloud', 'butter-rum', \"'n'\", 'shortcake', 'postum', 'another', 'skordalia', 'pao', 'scone', 'brococoli', 'apron', 'precooked', 'manzanita', \"wyler's\", 'torito', 'al', 'pastor', 'sauce-no', 'kung', 'sprouted', 'peruano', 'tejpatta', 'lollo', 'squeeze', 'khajur', 'imli', 'ki', 'puri', 'nugget', 'delightfulls', 'brinjal', 'weisswurst', 'tagliolini', 'javitri', 'rossa', 'chaimen', 'mojo', 'criollo', 'khubz', 'turnover', 'esb', 'poha', 'especial', 'blush', 'fleshed', 'just', 'right', 'testicles', 'castor', 'sloes', 'pasty', 'mettwurst', 'harvest', 'damsons', 'tsubushi-an', 'koshi-an', 'amul', 'charmagaj', 'raita', '100-calorie', 'hearty', 'robusto', 'swizzle', 'squirtable', 'fumet', 'wellfleet', 'trimmings', 'yoplait', 'stomach', 'passover', 'bellflower', 'alouette', 'white-meat', 'e', '13', 'primo', 'cacio', 'ann', 'dab', 'mull', 'kintyre', 'glayva', 'almond-flavored', 'jamaica', 'kishke', '\"lagrille\"', 'lotion', 'lincolnshire', 'poacher', 'florida', 'tortiglioni', 'sambar', 'wahoo', 'ostrich', 'gravenstein', 'cannella', 'jalapeno-cilantro', \"sheep's\", 'rod', 'jujubes', 'boucheron', 'butter-filled', 'instant-light', 'teleme', 'mitchell', 'puttanesca', 'double-action', 'thangkwa', 'muskellunge', 'dijon-horseradish', 'rootbeer', 'float', 'squeezable', 'varnish', 'accents', 'oatabix', 'vinaigrette-style', 'ajies', 'dulces', 'hom', 'zatarain', 'som', 'paep', 'haeo', 'prik', 'fa', 'opakapaka', 'measuring', 'keebler', 'shoppe', 'friends', 'nepitella', 'sand', 'mango-flavored', 'astragalus', 'gianduja', \"mike's\", 'tree', 'nopal', 'start', 'frichik', 'yigandes', 'escoffier', 'coral', 'smear', 'linden', 'no-added-sugar', 'mizuna', '3-inch', 'gur', 'taco-seasoned', 'campbells', 'cheddarwurst', 'badam', 'pancit', 'kippered', 'crabapple', 'nadru', 'asiago-parmesan', 'coconuts,', 'luster', 'reconstituted', 'ink', 'quatre-epices', 'sweet-meal', 'caramello', 'crowder', 'honey-balsamic', 'solo', 'mint-chocolate', 'hull', 'garcia', 'toulouse', 'bergamot', 'peak', 'freen', 'crabsticks', 'five-alive', 'swedish', 'mornay', 'marco', 'ngo', 'om', 'oat-bran', 'suger', 'high-fiber', 'fage', 'total', '0%', 'six', 'rotis', 'brinjals', 'shimeji', 'social', 'grapefruit-mango', 'pinole', 'local', 'soft-shell', 'japone', 'whale', 'yvette', 'peach-papaya-mango', 'pandanus', 'gochujang', 'presunto', 'sachet', \"d'espices\", 'requeson', 'cold-pressed', 'ballard', 'two', 'alarm', 'tuaca', 'clubhouse', 'guanabana', 'bleach', 'tangelos', 'breading', '99%', 'third-less', 'chili-o', 'bloomers', 'starlight', '92%', 'lime-infused', 'invert', '4%', 'langoustine', 'maypo', 'sugar-and-spice', \"'la\", 'graviera', 'bumble', 'international', 'frenchs', 'suisse', 'nice', 'vindaloo', 'brownberry', 'six-pepper', 'luncheon', 'cappelletti', 'balanced', 'male', 'buttermilk-mayonnaise', 'olivio', 'allegro', 'cranberry-strawberry', \"chi's\", 'cherimoya', 'campden', 'butterflake', 'wildberry', 'fassolia', 'gigantes', 'abuelita', 'pour', 'frost', 'carbquik', 'toppers', 'citronge', 'maifun', 'tannin', 'salmon-gefilte', '7', 'dipped', 'longans', 'croutettes', 'brandewijn', 'chipolata', 'herman', 'branch', 'candles', 'crenshaw', 'energizer', 'tomato-based', 'restaurante', 'miao', 'gumbo-style', 'lindt', 'wolf', 'dooley', 'burnt', 'casserole', 'pineapple-orange-guava', 'nutriwhip', 'michigan', 'parisienne', 'dou', 'mr.', 'paad', 'sides', 'siciliano', 'sauces', 'caribe', 'individual', 'prebaked', 'namak', \"confectioner's\", 'coppa', 'baloney', 'featherweight', 'kai', 'monarch', 'ogo', 'pluck', 'mullet', 'saucy', 'susan', 'allwhites', 'bolillos', 'grasshopper', 'munchee', 'trotter', 'huckleberry', 'willow', 'run', 'threebe', 'honey-nougat', 'chile-infused', 'conditioner', 'smacks', 'jif', 'cocktail-juice', 'jamon', 'iberico', 'scraps', 'salty', 'orange-fleshed', '\"fars\"', 'bowl', 'fantastico', 'fantastic', 'bernsteins', 'sate', 'shaosing', 'jalapeno-cheddar', 'napkin', 'staceys', 'clay', 'pots', 'pomeroon', 'cassareep', 'turtles', 'middle', 'goat-milk', 'grenadier', \"gilbey's\", 'tepins', 'glucomannan', 'pitaya', 'coastal', 'tilsit', 'iranian', 'cochineal', 'martini', 'crumb-nut', 'roka', 'chili-infused', 'flavors', 'catnip', 'underblade', 'crumble', 'kabob', 'muskmelon', 'granadilla', 'mastic', 'antipasto', 'debbie', 'elbows', '9-grain', 'mushroom-flavor', 'herbamare', 'ahmed', 'charoli', 'mozzarella-parmesan', 'japonica', 'cracked-wheat', 'portabellini', 'gran', 'macon', 'tjampoer', 'coddled', 'biryani', 'banana-flavor', 'decaffinated', 'benefiber', 'cavolo', 'rancher', 'jolly', 'bhutanese', 'gentian', 'delice', 'kwas', 'chocolate-cherry', 'variety', 'pre-rolled', 'granary', 'bagoong', 'tostado', 'gammon', 'candie', 'warrigal', 'scullcap', 'gravlax', 'bethony', 'savor', 'orrisroot', 'haldi', 'clean', 'pies', 'maraskina', 'pav', 'bhaji', '8-grain', 'sun-maid', 'bubblegum', 'national', 'hebrew', 'pam?', 'wasabi-horseradish', 'beaten', 'mush', 'marionberries', 'dubonnet', 'perciatelli', 'kway', 'teow', 'filbert', 'african', 'dust', 'guinea', 'sargento.', 'chefstyle', 'coolers', 'b&m', 'coors', 'cola-flavored', '94%', 'flatout', 'jowl', 'thoor', 'dhal', 'raspberry-filled', 'five-flavor', 'speculaas', 'terrapins', 'veja-links', 'bristol', 'tarragon-infused', 'dissolving', \"snackwell's\", 'las', 'palmas', 'patio', 'kataifi', 'hodgson', 'geese', 'spoon', 'shake-and-bake', '(1', '10\"', 'lb.', 'oz.)', \"file'\", 'boudin', 'lambsquarters', 'soyaki', 'whole-wheat', 'bamba', 'eckrich', 'lasueur', 'early', 'salsa-style', 'shah', 'zeera', 'kama', 'food-grade', 'diatomaceous', 'italian,', 'bushmills', 'tablet', 'collins', 'mustard-flavored', 'crickets', 'kijafa', 'cranberry-cinnamon', 'golean', 'cuitlacoche', 'banana-orange', 'smoky', 'caramel-swirl', 'teifi', 'liqueurs', 'orangecello', 'canary', 'caciocavallo', 'gevalia', 'atlantic', 'joint', 'pequin', 'chicken-spinach', 'maple-glazed', 'leicester', 'almond-stuffed', 'burata', 'holes', 'dilly', 'poi', 'gerber', 'zatarains', 'bake', 'pride', 'germain', 'hyssop', 'pomegranate,', 'aburage', 'crackling', 'lou', \"price's\", 'candy-covered', 'koolaid', 'marc', 'bourgogne', 'mid-joint', 'shilling', 'end', 'welsh', 'meaty', 'nero', 'yak', 'abalone', 'nose', 'karela', 'caffeine-free', 'pluots', 'nigari', 'rhizome', 'samp', 'pre-made', 'banana-blueberry', 'silk', 'rosettes', 'mavrothaphne', 'fortified', 'limburger', 'bugs', 'granola-type', 'glue', 'shishito', 'lutefisk', 'konjac', 'ghost', 'barbados', 'j&d', 'shichimi', 'kicked', 'sprouted-grain', 'injectable', 'muffuletta', 'cremora', 'sao', 'easter', 'jim', 'beam', 'spicebush', 'twigs', 'compote', 'hong', 'kong', 'lolly', 'boule', 'basque', 'roll-ups', 'haggis', 'salam', 'fish-fry', 'xxxx', 'gravox', \"perruso's\", 'georgia', \"boone's\", 'hill', 'groove', 'popsicles', 'gingelly', 'store-bought', 'bordelaise', 'southwestern-flavored', 'koubideh', 'rosamarina', 'wham', 'flexible', 'straws', 'tall', 'slender', \"pimm's\", 'roqaq', 'cured', 'jonagold', 'advieh-e', 'shake-in-bake', 'grapefruit-tangerine', 'antelope', 'tragacanth', 'cannonball', 'first', 'granita', 'n', 'fill', 'bunny', 'tracks', 'reduction', 'rumpleminze', 'negro', 'victoria', 'beef-flavored', 'raspberry-vanilla', 'herrings', 'oregano,', 'undrained', 'hi-c', 'hula', 'sobe', 'elixir', 'bath', 'caprino', 'matzot', 'boards', 'ti', 'garlic-chipotle', 'bronzino', '1/3', 'less', 'nutty', 'hydrogen', 'peroxide', 'rosa', 'scampi', 'mozzarella-cheddar', 'john', \"salley's\", 'caramel-filled', 'mouthwash', 'meaux', 'trinidadian', 'rosemary-infused', 'devil', 'oak', 'perejil', 'achute', 'china', 'picnic', 'paddy', 'chung', 'frypowder', 'muskmelons', 'ceylon', 'nassau', 'royale', 'waffle-cut', 'aroma', 'christophene', 'fesh', 'cheemo', 'perogies', 'rapadura', \"planter's\", 'fancy', 'packet', 'muscatel', 'four-grain', 'low-salt', 'frappuccino', 'microwaveable', 'stripe', 'waxed', 'no.', '1', 'peep', 'decorations', 'ohranj', 'washing', 'toffeepop', 'loganberries', 'rutland', 'over', 'hares', 'jujube', '21', 'salute', 'petroleum', 'maca', 'chickle', 'maltitol', 'peteh', 'tarhana', 'pastitsio', 'snowshoe', 'sifting', 'mochi', 'mawa', 'pub', 'ovolini', 'pie-flavor', 'ready-to-drink', 'salisbury', 'gremolata', 'prawn', 'shoe-peg', 'short-tailed', 'shearwater', 'marrows', 'rambutans', 'veloute', 'ajmoh', 'mango-peach', 'macapuno', 'tennessee', 'sizzling', 'smokehouse', 'hamour', 'minicube', 'eidam', 'konafah', 'label', 'pineau', 'malanga', 'buckets', 'ichiban', 'pieces,', 'nibbles', 'true', 'mahlepi', 'ultimates', 'lovers', 'orange-grapefruit', 'pimms', 'jack-style', 'impastata', 'chewing', 'shins', 'divided', 'zinger', 'lettuce,', 'washed,', 'dried*', 'radicchio,', 'cored,', 'separated', 'copper', 'mapleine', 'capicola-mozzarella', 'cheek', 'm.s.g.', 'tatsoi']\n"
          ]
        }
      ],
      "source": [
        "print(X_train.head())\n",
        "X_train_clean = X_train.apply(clean_tokens)\n",
        "\n",
        "print(\"-----\")\n",
        "print(X_train_clean.head())\n",
        "model = Word2Vec(sentences=list(X_train_clean), vector_size=100, window=5, min_count=1, workers=4)\n",
        "\n",
        "print(\"-----\")\n",
        "print(list(model.wv.index_to_key))"
      ]
    },
    {
      "cell_type": "code",
      "source": [
        "def recipe_vector(tokens, model):\n",
        "    valid_tokens = [word for word in tokens if word in model.wv]\n",
        "    if valid_tokens:\n",
        "        return np.mean(model.wv[valid_tokens], axis=0)\n",
        "    else:\n",
        "        return np.zeros(model.vector_size)\n",
        "\n",
        "recipe_vectors = [recipe_vector(recipe, model) for recipe in X_train_clean]"
      ],
      "metadata": {
        "id": "35jXWE2Ghbdt"
      },
      "execution_count": null,
      "outputs": []
    },
    {
      "cell_type": "code",
      "execution_count": null,
      "metadata": {
        "id": "hKTbI-2qVfLu",
        "colab": {
          "base_uri": "https://localhost:8080/"
        },
        "outputId": "8efc6a2f-0d10-4f44-92ed-f88ab1a8488d"
      },
      "outputs": [
        {
          "output_type": "stream",
          "name": "stdout",
          "text": [
            "[-0.02178471  0.03288089  0.15965293 ...  0.16139321  0.31341076\n",
            "  0.2650028 ]\n",
            "cheeze bread\n",
            "caramelized cheese covered grilled cheese sandwich\n",
            "pear and cheese toast\n",
            "kimke s grilled cheese\n",
            "extra special grilled cheese sandwich\n",
            "['bread', 'cheese']\n",
            "['butter', 'bread', 'cheese']\n",
            "['pear', 'cheese', 'bread', 'butter']\n",
            "['bread', 'cheese', 'butter', 'season salt']\n",
            "['bread', 'cheese', 'butter', 'jelly']\n"
          ]
        }
      ],
      "source": [
        "input_vector = recipe_vector(['cheese', 'bread', 'sugar', 'squash'], model)\n",
        "\n",
        "similarities = cosine_similarity([input_vector], recipe_vectors)[0]\n",
        "print(similarities)\n",
        "\n",
        "top_indices = np.argsort(similarities)[-5:][::-1]\n",
        "top_recipes = [y_train.iloc[idx] for idx in top_indices]\n",
        "top_recipes_ing = [X_train.iloc[idx] for idx in top_indices]\n",
        "\n",
        "for recipe in top_recipes:\n",
        "    print(recipe)\n",
        "\n",
        "for ing in top_recipes_ing:\n",
        "    print(ing)\n"
      ]
    },
    {
      "cell_type": "code",
      "source": [
        "input_vector = recipe_vector([\"butter\", \"cheese\", \"sugar\", \"cherry\", \"blueberry\"], model)\n",
        "\n",
        "similarities = cosine_similarity([input_vector], recipe_vectors)[0]\n",
        "print(similarities)\n",
        "\n",
        "top_indices = np.argsort(similarities)[-5:][::-1]\n",
        "top_recipes = [y_train.iloc[idx] for idx in top_indices]\n",
        "top_recipes_ing = [X_train.iloc[idx] for idx in top_indices]\n",
        "\n",
        "for recipe in top_recipes:\n",
        "    print(recipe)\n",
        "\n",
        "for ing in top_recipes_ing:\n",
        "    print(ing)\n"
      ],
      "metadata": {
        "colab": {
          "base_uri": "https://localhost:8080/"
        },
        "id": "jh1zr2D-fErF",
        "outputId": "194b4e19-e798-4618-992d-6ab4b701970f"
      },
      "execution_count": null,
      "outputs": [
        {
          "output_type": "stream",
          "name": "stdout",
          "text": [
            "[-0.04973356 -0.1747827  -0.04018064 ...  0.07806155  0.2673572\n",
            "  0.46678087]\n",
            "mascarpone cheesecake with balsamic strawberries\n",
            "tiramisu cheesecake\n",
            "strawberry cream cheese pound cake\n",
            "baby brie with praline\n",
            "easy blue cheese crostini\n",
            "['biscotti', 'unsalted butter', 'cream cheese', 'mascarpone cheese', 'sugar', 'eggs', 'strawberries', 'balsamic vinegar']\n",
            "['cream cheese', 'sugar', 'mascarpone cheese', 'eggs', 'flour', 'coffee-flavored liqueur', 'ladyfingers', 'butter']\n",
            "['butter', 'cream cheese', 'sugar', 'salt', 'butter flavoring', 'eggs', 'sifted flour', 'fresh strawberries', 'icing sugar']\n",
            "['brie cheese', 'brown sugar', 'pecans', 'butter', 'strawberries']\n",
            "['blue cheese', 'butter', 'french baguettes', 'sugar']\n"
          ]
        }
      ]
    },
    {
      "cell_type": "code",
      "source": [
        "input_vector = recipe_vector([\"butter\", \"cherries\", \"sugar\", \"flour\"], model)\n",
        "\n",
        "similarities = cosine_similarity([input_vector], recipe_vectors)[0]\n",
        "print(similarities)\n",
        "\n",
        "top_indices = np.argsort(similarities)[-5:][::-1]\n",
        "top_recipes = [y_train.iloc[idx] for idx in top_indices]\n",
        "top_recipes_ing = [X_train.iloc[idx] for idx in top_indices]\n",
        "\n",
        "for recipe in top_recipes:\n",
        "    print(recipe)\n",
        "\n",
        "for ing in top_recipes_ing:\n",
        "    print(ing)\n"
      ],
      "metadata": {
        "colab": {
          "base_uri": "https://localhost:8080/"
        },
        "id": "sHalsEkWqt9g",
        "outputId": "54e2a80a-dcae-4607-e7d5-6bc18adb9b32"
      },
      "execution_count": null,
      "outputs": [
        {
          "output_type": "stream",
          "name": "stdout",
          "text": [
            "[-0.09972291 -0.15564957  0.07239853 ...  0.10258189  0.38124645\n",
            "  0.72051567]\n",
            "4 ingredient peach cobbler\n",
            "pie plant pie aka rhubarb pie\n",
            "smul paj  crumb pie\n",
            "simple scotch shortbread\n",
            "super easy shortbread  3 ingredients\n",
            "['flour', 'sugar', 'butter', 'peaches']\n",
            "['rhubarb', 'sugar', 'butter', 'flour']\n",
            "['flour', 'butter', 'sugar']\n",
            "['butter', 'sugar', 'flour']\n",
            "['butter', 'sugar', 'flour']\n"
          ]
        }
      ]
    },
    {
      "cell_type": "code",
      "source": [
        "# input must be seperated by commas\n",
        "input = \"butter, cheese, sugar, cherry, blueberry\"\n",
        "new_tokens = clean_tokens(input)\n",
        "print(new_tokens)\n",
        "\n",
        "input_vector = recipe_vector(new_tokens, model)\n",
        "\n",
        "similarities = cosine_similarity([input_vector], recipe_vectors)[0]\n",
        "\n",
        "print(similarities)\n",
        "\n",
        "top_indices = np.argsort(similarities)[-5:][::-1]\n",
        "\n",
        "print(top_indices)\n",
        "\n",
        "top_indices = np.argsort(similarities)[-5:][::-1]\n",
        "top_recipes = [y_train.iloc[idx] for idx in top_indices]\n",
        "top_recipes_ing = [X_train.iloc[idx] for idx in top_indices]\n",
        "\n",
        "for recipe in top_recipes:\n",
        "    print(recipe)\n",
        "\n",
        "for ing in top_recipes_ing:\n",
        "    print(ing)\n"
      ],
      "metadata": {
        "colab": {
          "base_uri": "https://localhost:8080/"
        },
        "id": "ZbEYWfkgXoVp",
        "outputId": "20ceeee4-2c83-4f78-c000-afb1341863a1"
      },
      "execution_count": null,
      "outputs": [
        {
          "output_type": "stream",
          "name": "stdout",
          "text": [
            "['butter', 'cheese', 'sugar', 'cherry', 'blueberry']\n",
            "[-0.04973356 -0.1747827  -0.04018064 ...  0.07806155  0.2673572\n",
            "  0.46678087]\n",
            "[ 96574  44795 125254  47165  53159]\n",
            "mascarpone cheesecake with balsamic strawberries\n",
            "tiramisu cheesecake\n",
            "strawberry cream cheese pound cake\n",
            "baby brie with praline\n",
            "easy blue cheese crostini\n",
            "['biscotti', 'unsalted butter', 'cream cheese', 'mascarpone cheese', 'sugar', 'eggs', 'strawberries', 'balsamic vinegar']\n",
            "['cream cheese', 'sugar', 'mascarpone cheese', 'eggs', 'flour', 'coffee-flavored liqueur', 'ladyfingers', 'butter']\n",
            "['butter', 'cream cheese', 'sugar', 'salt', 'butter flavoring', 'eggs', 'sifted flour', 'fresh strawberries', 'icing sugar']\n",
            "['brie cheese', 'brown sugar', 'pecans', 'butter', 'strawberries']\n",
            "['blue cheese', 'butter', 'french baguettes', 'sugar']\n"
          ]
        }
      ]
    },
    {
      "cell_type": "code",
      "execution_count": null,
      "metadata": {
        "id": "kcFKHB4ArODV",
        "colab": {
          "base_uri": "https://localhost:8080/"
        },
        "outputId": "c5e33f7e-1af3-4aac-9d18-e82ce048a379"
      },
      "outputs": [
        {
          "output_type": "stream",
          "name": "stdout",
          "text": [
            "Most similar recipe text: ['water', 'orzo pasta', 'olive oil', 'italian-style tomatoes', 'chicken broth', 'fresh white mushroom', 'feta cheese']\n"
          ]
        }
      ],
      "source": [
        "most_similar = similarities.argmax()\n",
        "\n",
        "most_similar_text = X_train[most_similar]\n",
        "\n",
        "print(f\"Most similar recipe text: {most_similar_text}\")"
      ]
    },
    {
      "cell_type": "code",
      "execution_count": null,
      "metadata": {
        "id": "oFEeYvUBZOMk",
        "colab": {
          "base_uri": "https://localhost:8080/"
        },
        "outputId": "1a53e5af-cc16-4f38-886c-60cb8934e5b3"
      },
      "outputs": [
        {
          "output_type": "stream",
          "name": "stdout",
          "text": [
            "Most similar recipe text: greek mushroom orzo\n"
          ]
        }
      ],
      "source": [
        "most_similar = similarities.argmax()\n",
        "\n",
        "most_similar_text = y_train[most_similar]\n",
        "\n",
        "print(f\"Most similar recipe text: {most_similar_text}\")"
      ]
    },
    {
      "cell_type": "code",
      "execution_count": null,
      "metadata": {
        "id": "BFdbgvZJIYfi",
        "colab": {
          "base_uri": "https://localhost:8080/"
        },
        "outputId": "37bd7c55-49a9-44df-c7fd-5ef476e048b1"
      },
      "outputs": [
        {
          "output_type": "stream",
          "name": "stderr",
          "text": [
            "<ipython-input-131-f5617b7567e0>:8: SettingWithCopyWarning: \n",
            "A value is trying to be set on a copy of a slice from a DataFrame.\n",
            "Try using .loc[row_indexer,col_indexer] = value instead\n",
            "\n",
            "See the caveats in the documentation: https://pandas.pydata.org/pandas-docs/stable/user_guide/indexing.html#returning-a-view-versus-a-copy\n",
            "  df_train['description'] = df_train['description'].astype(str)\n"
          ]
        },
        {
          "output_type": "stream",
          "name": "stdout",
          "text": [
            "                                         name  \\\n",
            "0  arriba   baked winter squash mexican style   \n",
            "1            a bit different  breakfast pizza   \n",
            "2                   all in the kitchen  chili   \n",
            "3                          alouette  potatoes   \n",
            "4          amish  tomato ketchup  for canning   \n",
            "\n",
            "                                         description        keywords  \n",
            "0  autumn is my favorite time of year to cook! th...  [spicy, sweet]  \n",
            "1  this recipe calls for the crust to be prebaked...              []  \n",
            "2  this modified version of 'mom's' chili was a h...              []  \n",
            "3  this is a super easy, great tasting, make ahea...              []  \n",
            "4  my dh's amish mother raised him on this recipe...              []  \n"
          ]
        },
        {
          "output_type": "stream",
          "name": "stderr",
          "text": [
            "<ipython-input-131-f5617b7567e0>:9: SettingWithCopyWarning: \n",
            "A value is trying to be set on a copy of a slice from a DataFrame.\n",
            "Try using .loc[row_indexer,col_indexer] = value instead\n",
            "\n",
            "See the caveats in the documentation: https://pandas.pydata.org/pandas-docs/stable/user_guide/indexing.html#returning-a-view-versus-a-copy\n",
            "  df_train['keywords'] = df_train['description'].apply(find_keywords)\n"
          ]
        }
      ],
      "source": [
        "keywords = {'sweet', 'fishy', 'salty', 'hot', 'spicy', 'buttery', 'moist'}\n",
        "\n",
        "def find_keywords(text):\n",
        "    tokens = word_tokenize(text.lower())\n",
        "    list_keywords = list(keywords.intersection(tokens))\n",
        "    return list_keywords\n",
        "\n",
        "df_train['description'] = df_train['description'].astype(str)\n",
        "df_train['keywords'] = df_train['description'].apply(find_keywords)\n",
        "\n",
        "print(df_train[['name', 'description', 'keywords']].head())\n"
      ]
    },
    {
      "cell_type": "code",
      "execution_count": null,
      "metadata": {
        "id": "DB9Ttk1MI6IZ",
        "colab": {
          "base_uri": "https://localhost:8080/"
        },
        "outputId": "1389c6bc-caf6-455e-c2f7-a298f998b7a2"
      },
      "outputs": [
        {
          "output_type": "stream",
          "name": "stdout",
          "text": [
            "                                                     name  \\\n",
            "0              arriba   baked winter squash mexican style   \n",
            "10                            berry  good sandwich spread   \n",
            "32                                   grilled  ranch bread   \n",
            "36      how i got my family to eat spinach  spinach ca...   \n",
            "42                              i yam what i yam  muffins   \n",
            "...                                                   ...   \n",
            "231615                              zuvers barbecue sauce   \n",
            "231618                       zwetschgenkuchen   plum cake   \n",
            "231624        zwiebelkuchen   southwest german onion cake   \n",
            "231625                  zwiebeln salat  swiss onion salad   \n",
            "231629                                       zydeco salad   \n",
            "\n",
            "                                              description        keywords  \n",
            "0       autumn is my favorite time of year to cook! th...  [spicy, sweet]  \n",
            "10      horseradish is one of my favorite condiments a...    [sweet, hot]  \n",
            "32                                           buttery and        [buttery]  \n",
            "36      if spinach scares you, this is one recipe that...           [hot]  \n",
            "42      these muffins may have slightly different ingr...  [sweet, moist]  \n",
            "...                                                   ...             ...  \n",
            "231615  this barbecue sauce is great on ribs, chicken ...         [sweet]  \n",
            "231618  this is a classic german pastry and a deliciou...         [sweet]  \n",
            "231624  this is a traditional late summer early fall s...         [sweet]  \n",
            "231625  adapted from pan american's compete round the ...           [hot]  \n",
            "231629  recipe courtesy of b&c seafood, vacherie, la a...         [salty]  \n",
            "\n",
            "[24460 rows x 3 columns]\n"
          ]
        }
      ],
      "source": [
        "df_with_keywords = df_train[df_train['keywords'].map(bool)]\n",
        "\n",
        "print(df_with_keywords[['name', 'description', 'keywords']])"
      ]
    },
    {
      "cell_type": "code",
      "execution_count": null,
      "metadata": {
        "id": "z0DJAzvLKXCQ"
      },
      "outputs": [],
      "source": [
        "# check if the person is asking for a certain keyword\n",
        "# then check if the person is asking for a certain ingrediant\n",
        "# pasta\n",
        "# times of day\n",
        "\n",
        "# check for keywords\n",
        "# check for ratings\n",
        "\n",
        "# data visualization\n",
        "# 40 hours of work\n",
        "\n",
        "#--------------------------------\n",
        "# ingrediant comparison with cosine similarity\n",
        "# giving back food based on rating\n",
        "# keywords (ingrediants, salty/spicy, lunch/dinner/dessert)"
      ]
    }
  ],
  "metadata": {
    "colab": {
      "provenance": []
    },
    "kernelspec": {
      "display_name": "Python 3",
      "name": "python3"
    },
    "language_info": {
      "name": "python"
    }
  },
  "nbformat": 4,
  "nbformat_minor": 0
}