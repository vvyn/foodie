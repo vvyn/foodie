{
  "cells": [
    {
      "cell_type": "code",
      "execution_count": 38,
      "metadata": {
        "id": "NmFvI89_O2rI",
        "colab": {
          "base_uri": "https://localhost:8080/"
        },
        "outputId": "7b35556c-cde8-4fc2-c17c-40e04b66f792"
      },
      "outputs": [
        {
          "output_type": "stream",
          "name": "stderr",
          "text": [
            "[nltk_data] Downloading package punkt to /root/nltk_data...\n",
            "[nltk_data]   Package punkt is already up-to-date!\n"
          ]
        }
      ],
      "source": [
        "import os\n",
        "import pandas as pd\n",
        "import numpy as np\n",
        "\n",
        "import nltk\n",
        "from nltk.tokenize import word_tokenize\n",
        "from nltk.corpus import stopwords\n",
        "nltk.download('punkt')\n",
        "\n",
        "from google.colab import drive\n",
        "from google.colab import files\n",
        "\n",
        "from sklearn.model_selection import train_test_split\n",
        "from sklearn.feature_extraction.text import TfidfVectorizer\n",
        "from sklearn.metrics.pairwise import cosine_similarity\n",
        "\n",
        "from gensim.models import Word2Vec"
      ]
    },
    {
      "cell_type": "code",
      "execution_count": 39,
      "metadata": {
        "id": "Hl2JvhUXPecg",
        "colab": {
          "base_uri": "https://localhost:8080/"
        },
        "outputId": "7823c101-0620-456b-85a2-79fde41c96fa"
      },
      "outputs": [
        {
          "output_type": "stream",
          "name": "stdout",
          "text": [
            "Drive already mounted at /content/drive/; to attempt to forcibly remount, call drive.mount(\"/content/drive/\", force_remount=True).\n",
            "                                         name      id  minutes  \\\n",
            "0  arriba   baked winter squash mexican style  137739       55   \n",
            "1            a bit different  breakfast pizza   31490       30   \n",
            "2                   all in the kitchen  chili  112140      130   \n",
            "3                          alouette  potatoes   59389       45   \n",
            "4          amish  tomato ketchup  for canning   44061      190   \n",
            "\n",
            "   contributor_id   submitted  \\\n",
            "0           47892  2005-09-16   \n",
            "1           26278  2002-06-17   \n",
            "2          196586  2005-02-25   \n",
            "3           68585  2003-04-14   \n",
            "4           41706  2002-10-25   \n",
            "\n",
            "                                                tags  \\\n",
            "0  ['60-minutes-or-less', 'time-to-make', 'course...   \n",
            "1  ['30-minutes-or-less', 'time-to-make', 'course...   \n",
            "2  ['time-to-make', 'course', 'preparation', 'mai...   \n",
            "3  ['60-minutes-or-less', 'time-to-make', 'course...   \n",
            "4  ['weeknight', 'time-to-make', 'course', 'main-...   \n",
            "\n",
            "                                    nutrition  n_steps  \\\n",
            "0       [51.5, 0.0, 13.0, 0.0, 2.0, 0.0, 4.0]       11   \n",
            "1   [173.4, 18.0, 0.0, 17.0, 22.0, 35.0, 1.0]        9   \n",
            "2  [269.8, 22.0, 32.0, 48.0, 39.0, 27.0, 5.0]        6   \n",
            "3   [368.1, 17.0, 10.0, 2.0, 14.0, 8.0, 20.0]       11   \n",
            "4   [352.9, 1.0, 337.0, 23.0, 3.0, 0.0, 28.0]        5   \n",
            "\n",
            "                                               steps  \\\n",
            "0  ['make a choice and proceed with recipe', 'dep...   \n",
            "1  ['preheat oven to 425 degrees f', 'press dough...   \n",
            "2  ['brown ground beef in large pot', 'add choppe...   \n",
            "3  ['place potatoes in a large pot of lightly sal...   \n",
            "4  ['mix all ingredients& boil for 2 1 / 2 hours ...   \n",
            "\n",
            "                                         description  \\\n",
            "0  autumn is my favorite time of year to cook! th...   \n",
            "1  this recipe calls for the crust to be prebaked...   \n",
            "2  this modified version of 'mom's' chili was a h...   \n",
            "3  this is a super easy, great tasting, make ahea...   \n",
            "4  my dh's amish mother raised him on this recipe...   \n",
            "\n",
            "                                         ingredients  n_ingredients  \n",
            "0  ['winter squash', 'mexican seasoning', 'mixed ...              7  \n",
            "1  ['prepared pizza crust', 'sausage patty', 'egg...              6  \n",
            "2  ['ground beef', 'yellow onions', 'diced tomato...             13  \n",
            "3  ['spreadable cheese with garlic and herbs', 'n...             11  \n",
            "4  ['tomato juice', 'apple cider vinegar', 'sugar...              8  \n"
          ]
        }
      ],
      "source": [
        "drive.mount('/content/drive/')\n",
        "\n",
        "data_recipes  = pd.read_csv(\"/content/drive/MyDrive/NLP/RAW_recipes.csv\")\n",
        "\n",
        "df_recipes = pd.DataFrame(data_recipes)\n",
        "\n",
        "print(df_recipes.head())"
      ]
    },
    {
      "cell_type": "code",
      "execution_count": 40,
      "metadata": {
        "id": "taUlvrotR8_8",
        "colab": {
          "base_uri": "https://localhost:8080/"
        },
        "outputId": "45ef3b9c-0806-44e0-b5d0-f81b9390891f"
      },
      "outputs": [
        {
          "output_type": "execute_result",
          "data": {
            "text/plain": [
              "name                 1\n",
              "id                   0\n",
              "minutes              0\n",
              "contributor_id       0\n",
              "submitted            0\n",
              "tags                 0\n",
              "nutrition            0\n",
              "n_steps              0\n",
              "steps                0\n",
              "description       4979\n",
              "ingredients          0\n",
              "n_ingredients        0\n",
              "dtype: int64"
            ]
          },
          "metadata": {},
          "execution_count": 40
        }
      ],
      "source": [
        "df_recipes.isnull().sum()"
      ]
    },
    {
      "cell_type": "code",
      "execution_count": 41,
      "metadata": {
        "id": "Ges6yn7KSM9h",
        "colab": {
          "base_uri": "https://localhost:8080/"
        },
        "outputId": "bed4cece-fd6a-4f7d-a30c-05a80db68385"
      },
      "outputs": [
        {
          "output_type": "execute_result",
          "data": {
            "text/plain": [
              "231636"
            ]
          },
          "metadata": {},
          "execution_count": 41
        }
      ],
      "source": [
        "df_recipes['name'].count()"
      ]
    },
    {
      "cell_type": "code",
      "execution_count": 42,
      "metadata": {
        "id": "cxIoQmff5whf",
        "colab": {
          "base_uri": "https://localhost:8080/"
        },
        "outputId": "b787e3bd-9b93-4fa3-b896-66c8b667c330"
      },
      "outputs": [
        {
          "output_type": "stream",
          "name": "stdout",
          "text": [
            "['arriba   baked winter squash mexican style'\n",
            " 'a bit different  breakfast pizza' 'all in the kitchen  chili' ...\n",
            " 'zydeco ya ya deviled eggs' 'cookies by design   cookies on a stick'\n",
            " 'cookies by design   sugar shortbread cookies']\n"
          ]
        }
      ],
      "source": [
        "df_recipes_unique = df_recipes['name'].unique()\n",
        "print(df_recipes_unique)"
      ]
    },
    {
      "cell_type": "code",
      "execution_count": 43,
      "metadata": {
        "id": "3iCIEv59ZkCm",
        "colab": {
          "base_uri": "https://localhost:8080/"
        },
        "outputId": "b559d91f-c30a-4ebc-adc9-58b1d0c26c12"
      },
      "outputs": [
        {
          "output_type": "stream",
          "name": "stdout",
          "text": [
            "                                         name  \\\n",
            "0  arriba   baked winter squash mexican style   \n",
            "1            a bit different  breakfast pizza   \n",
            "2                   all in the kitchen  chili   \n",
            "3                          alouette  potatoes   \n",
            "4          amish  tomato ketchup  for canning   \n",
            "\n",
            "                                         description  \\\n",
            "0  autumn is my favorite time of year to cook! th...   \n",
            "1  this recipe calls for the crust to be prebaked...   \n",
            "2  this modified version of 'mom's' chili was a h...   \n",
            "3  this is a super easy, great tasting, make ahea...   \n",
            "4  my dh's amish mother raised him on this recipe...   \n",
            "\n",
            "                                         ingredients  \n",
            "0  ['winter squash', 'mexican seasoning', 'mixed ...  \n",
            "1  ['prepared pizza crust', 'sausage patty', 'egg...  \n",
            "2  ['ground beef', 'yellow onions', 'diced tomato...  \n",
            "3  ['spreadable cheese with garlic and herbs', 'n...  \n",
            "4  ['tomato juice', 'apple cider vinegar', 'sugar...  \n"
          ]
        }
      ],
      "source": [
        "df_train = df_recipes[['name', 'description', 'ingredients']]\n",
        "print(df_train.head())"
      ]
    },
    {
      "cell_type": "code",
      "execution_count": 44,
      "metadata": {
        "id": "TxPxOs1rFTSQ",
        "colab": {
          "base_uri": "https://localhost:8080/"
        },
        "outputId": "557cf99b-05a1-4f79-f4fa-d27bc61604ca"
      },
      "outputs": [
        {
          "output_type": "execute_result",
          "data": {
            "text/plain": [
              "name\n",
              "crock pot lemon garlic chicken                  3\n",
              "gluten free chocolate chip cookies              3\n",
              "chocolate peanut butter cookies                 3\n",
              "three bean chili                                3\n",
              "pop up rolls                                    3\n",
              "                                               ..\n",
              "easy pineapple cake                             1\n",
              "easy pineapple chicken                          1\n",
              "easy pineapple chili                            1\n",
              "easy pineapple dessert                          1\n",
              "cookies by design   sugar shortbread cookies    1\n",
              "Name: count, Length: 230185, dtype: int64"
            ]
          },
          "metadata": {},
          "execution_count": 44
        }
      ],
      "source": [
        "df_train['name'].value_counts()"
      ]
    },
    {
      "cell_type": "code",
      "execution_count": 45,
      "metadata": {
        "id": "U2ujEWDaFkTl",
        "colab": {
          "base_uri": "https://localhost:8080/"
        },
        "outputId": "aa455fdc-b067-4c2e-d782-d879a3d6f471"
      },
      "outputs": [
        {
          "output_type": "execute_result",
          "data": {
            "text/plain": [
              "ingredients\n",
              "['eggs', 'water']                                                                                                                                                                                                10\n",
              "['flour', 'baking powder', 'salt', 'shortening', 'milk']                                                                                                                                                          6\n",
              "['sugar', 'water']                                                                                                                                                                                                5\n",
              "['butter', 'sugar', 'flour']                                                                                                                                                                                      5\n",
              "['all-purpose flour', 'baking powder', 'salt', 'butter', 'milk']                                                                                                                                                  5\n",
              "                                                                                                                                                                                                                 ..\n",
              "['boneless skinless chicken breast halves', 'white rice', 'hot water', 'chicken bouillon cubes', 'onion powder', 'carrots', 'broccoli', 'cream of celery soup', 'milk', 'parmesan cheese', 'salt and pepper']     1\n",
              "['lobster tails', 'white wine', 'garlic cloves', 'butter']                                                                                                                                                        1\n",
              "['ground beef', 'onion', 'green pepper', 'water', 'taco seasoning', 'cheese', 'tomatoes', 'sour cream', 'green onion', 'lettuce']                                                                                 1\n",
              "['kielbasa', 'green beans with new potatoes']                                                                                                                                                                     1\n",
              "['granulated sugar', 'shortening', 'eggs', 'flour', 'cream of tartar', 'baking soda', 'vanilla extract']                                                                                                          1\n",
              "Name: count, Length: 230475, dtype: int64"
            ]
          },
          "metadata": {},
          "execution_count": 45
        }
      ],
      "source": [
        "df_train['ingredients'].value_counts()"
      ]
    },
    {
      "cell_type": "code",
      "execution_count": 46,
      "metadata": {
        "id": "lYBUwPHXFrmq",
        "colab": {
          "base_uri": "https://localhost:8080/"
        },
        "outputId": "eeee5217-0e96-4151-f7c0-52ebbd810f89"
      },
      "outputs": [
        {
          "output_type": "stream",
          "name": "stdout",
          "text": [
            "                                         ingredients\n",
            "0  ['winter squash', 'mexican seasoning', 'mixed ...\n",
            "1  ['prepared pizza crust', 'sausage patty', 'egg...\n",
            "2  ['ground beef', 'yellow onions', 'diced tomato...\n",
            "3  ['spreadable cheese with garlic and herbs', 'n...\n",
            "4  ['tomato juice', 'apple cider vinegar', 'sugar...\n",
            "------\n",
            "                                         name\n",
            "0  arriba   baked winter squash mexican style\n",
            "1            a bit different  breakfast pizza\n",
            "2                   all in the kitchen  chili\n",
            "3                          alouette  potatoes\n",
            "4          amish  tomato ketchup  for canning\n"
          ]
        }
      ],
      "source": [
        "X = df_train[['ingredients']]\n",
        "Y = df_train[['name']]\n",
        "\n",
        "print(X.head())\n",
        "print(\"------\")\n",
        "print(Y.head())"
      ]
    },
    {
      "cell_type": "code",
      "execution_count": 47,
      "metadata": {
        "id": "LX5TLKPkK7VO"
      },
      "outputs": [],
      "source": [
        "X_train, X_test, y_train, y_test = train_test_split(X, Y, test_size = 0.2, random_state=5)"
      ]
    },
    {
      "cell_type": "code",
      "execution_count": 48,
      "metadata": {
        "id": "yBPpLaufLJRy"
      },
      "outputs": [],
      "source": [
        "X_train = X_train.squeeze()\n",
        "#type(X_train)"
      ]
    },
    {
      "cell_type": "code",
      "execution_count": 49,
      "metadata": {
        "id": "LlI32tcCOQ1A"
      },
      "outputs": [],
      "source": [
        "X_test = X_test.squeeze()\n",
        "#type(X_test)"
      ]
    },
    {
      "cell_type": "code",
      "execution_count": 50,
      "metadata": {
        "id": "JD-r2isNRY_v"
      },
      "outputs": [],
      "source": [
        "y_test = y_test.squeeze()\n",
        "#type(y_test)"
      ]
    },
    {
      "cell_type": "code",
      "execution_count": 51,
      "metadata": {
        "id": "h33rgQCgTBOn"
      },
      "outputs": [],
      "source": [
        "y_train = y_train.squeeze()\n",
        "#type(y_train)"
      ]
    },
    {
      "cell_type": "code",
      "execution_count": 52,
      "metadata": {
        "id": "aHJ91StNOgcw"
      },
      "outputs": [],
      "source": [
        "tfidfv = TfidfVectorizer(lowercase=True)\n",
        "\n",
        "X_train = X_train.fillna(\"\")\n",
        "y_train = y_train.fillna(\"\")\n",
        "\n",
        "x_train = tfidfv.fit_transform(X_train)\n",
        "x_test = tfidfv.transform(X_test)"
      ]
    },
    {
      "cell_type": "code",
      "source": [
        "import ast\n",
        "\n",
        "def clean_tokens(input):\n",
        "    try:\n",
        "        ingredients = ast.literal_eval(input)\n",
        "    except ValueError:\n",
        "        ingredients = input.strip(\"[]\").split(\", \")\n",
        "        ingredients = [word.strip(\"'\") for word in ingredients]\n",
        "\n",
        "    tokens = [item for sublist in ingredients for item in sublist.split()]\n",
        "    return tokens"
      ],
      "metadata": {
        "id": "4WSNALqwbaHw"
      },
      "execution_count": 53,
      "outputs": []
    },
    {
      "cell_type": "code",
      "execution_count": 54,
      "metadata": {
        "colab": {
          "base_uri": "https://localhost:8080/"
        },
        "id": "BmmZBuTjoskp",
        "outputId": "7c31ef63-c360-4547-a55a-0880c7da8b18"
      },
      "outputs": [
        {
          "output_type": "stream",
          "name": "stdout",
          "text": [
            "98704     ['boneless skinless salmon fillets', 'red chil...\n",
            "186612    ['beef bones', 'carrots', 'onions', 'celery', ...\n",
            "27160     ['lean ground beef', 'ground cloves', 'poultry...\n",
            "62648     ['chicken breasts', 'carrots', 'onion', 'oil',...\n",
            "28370     ['extra virgin olive oil', 'garlic', 'romano c...\n",
            "Name: ingredients, dtype: object\n",
            "-----\n",
            "98704     [boneless, skinless, salmon, fillets, red, chi...\n",
            "186612    [beef, bones, carrots, onions, celery, leeks, ...\n",
            "27160     [lean, ground, beef, ground, cloves, poultry, ...\n",
            "62648     [chicken, breasts, carrots, onion, oil, chicke...\n",
            "28370     [extra, virgin, olive, oil, garlic, romano, ch...\n",
            "Name: ingredients, dtype: object\n",
            "-----\n"
          ]
        }
      ],
      "source": [
        "print(X_train.head())\n",
        "X_train_clean = X_train.apply(clean_tokens)\n",
        "\n",
        "print(\"-----\")\n",
        "print(X_train_clean.head())\n",
        "model = Word2Vec(sentences=list(X_train_clean), vector_size=100, window=5, min_count=1, workers=4)\n",
        "\n",
        "print(\"-----\")\n",
        "#print(list(model.wv.index_to_key))"
      ]
    },
    {
      "cell_type": "code",
      "source": [
        "def recipe_vector(tokens, model):\n",
        "    valid_tokens = [word for word in tokens if word in model.wv]\n",
        "    if valid_tokens:\n",
        "        return np.mean(model.wv[valid_tokens], axis=0)\n",
        "    else:\n",
        "        return np.zeros(model.vector_size)\n",
        "\n",
        "recipe_vectors = [recipe_vector(recipe, model) for recipe in X_train_clean]"
      ],
      "metadata": {
        "id": "35jXWE2Ghbdt"
      },
      "execution_count": 55,
      "outputs": []
    },
    {
      "cell_type": "code",
      "execution_count": 69,
      "metadata": {
        "id": "hKTbI-2qVfLu",
        "colab": {
          "base_uri": "https://localhost:8080/"
        },
        "outputId": "fce0283c-f02a-4d24-db8f-e297779a581d"
      },
      "outputs": [
        {
          "output_type": "stream",
          "name": "stdout",
          "text": [
            "[-0.00515252  0.03845676  0.18085605 ...  0.17870298  0.29556668\n",
            "  0.2228355 ]\n"
          ]
        }
      ],
      "source": [
        "input_vector = recipe_vector(['cheese', 'bread', 'sugar', 'squash'], model)\n",
        "\n",
        "similarities = cosine_similarity([input_vector], recipe_vectors)[0]\n",
        "print(similarities)"
      ]
    },
    {
      "cell_type": "code",
      "source": [
        "top_indices = np.argsort(similarities)[-5:][::-1]\n",
        "print(top_indices)"
      ],
      "metadata": {
        "colab": {
          "base_uri": "https://localhost:8080/"
        },
        "id": "WbfxJ3QV9IjD",
        "outputId": "076ae18b-9044-4be3-cd9e-b2b3525f0fcd"
      },
      "execution_count": 70,
      "outputs": [
        {
          "output_type": "stream",
          "name": "stdout",
          "text": [
            "[177804 162917 119965  72921 174101]\n"
          ]
        }
      ]
    },
    {
      "cell_type": "code",
      "source": [
        "print(similarities[top_indices])"
      ],
      "metadata": {
        "colab": {
          "base_uri": "https://localhost:8080/"
        },
        "id": "S9_-GiSk9Klx",
        "outputId": "0afd7561-6cc8-4f50-e4e8-c3afaa86970c"
      },
      "execution_count": 71,
      "outputs": [
        {
          "output_type": "stream",
          "name": "stdout",
          "text": [
            "[0.7775472  0.75041986 0.72733164 0.7012359  0.698444  ]\n"
          ]
        }
      ]
    },
    {
      "cell_type": "code",
      "source": [
        "top_recipes = [y_train.iloc[idx] for idx in top_indices]\n",
        "top_recipes_ing = [X_train.iloc[idx] for idx in top_indices]\n",
        "\n",
        "for recipe in top_recipes:\n",
        "    print(recipe)\n",
        "\n",
        "for ing in top_recipes_ing:\n",
        "    print(ing)"
      ],
      "metadata": {
        "colab": {
          "base_uri": "https://localhost:8080/"
        },
        "id": "hQx61-4o9MOu",
        "outputId": "42f8f291-d2c1-4850-ef64-c32105c46014"
      },
      "execution_count": 72,
      "outputs": [
        {
          "output_type": "stream",
          "name": "stdout",
          "text": [
            "cheeze bread\n",
            "caramelized cheese covered grilled cheese sandwich\n",
            "pear and cheese toast\n",
            "kimke s grilled cheese\n",
            "extra special grilled cheese sandwich\n",
            "['bread', 'cheese']\n",
            "['butter', 'bread', 'cheese']\n",
            "['pear', 'cheese', 'bread', 'butter']\n",
            "['bread', 'cheese', 'butter', 'season salt']\n",
            "['bread', 'cheese', 'butter', 'jelly']\n"
          ]
        }
      ]
    },
    {
      "cell_type": "code",
      "source": [
        "input_vector = recipe_vector([\"butter\", \"cheese\", \"sugar\", \"cherry\", \"blueberry\"], model)\n",
        "\n",
        "similarities = cosine_similarity([input_vector], recipe_vectors)[0]\n",
        "print(similarities)\n",
        "\n",
        "top_indices = np.argsort(similarities)[-5:][::-1]\n",
        "top_recipes = [y_train.iloc[idx] for idx in top_indices]\n",
        "top_recipes_ing = [X_train.iloc[idx] for idx in top_indices]\n",
        "\n",
        "for recipe in top_recipes:\n",
        "    print(recipe)\n",
        "\n",
        "for ing in top_recipes_ing:\n",
        "    print(ing)\n"
      ],
      "metadata": {
        "colab": {
          "base_uri": "https://localhost:8080/"
        },
        "id": "jh1zr2D-fErF",
        "outputId": "55f4c258-0d89-41d6-a4de-1a2eec4f6fd8"
      },
      "execution_count": 57,
      "outputs": [
        {
          "output_type": "stream",
          "name": "stdout",
          "text": [
            "[-0.04885215 -0.17265612 -0.02566671 ...  0.05975268  0.2486096\n",
            "  0.47798908]\n",
            "mascarpone cheesecake with balsamic strawberries\n",
            "holiday cheesecake bars\n",
            "strawberry cream cheese pound cake\n",
            "baby brie with praline\n",
            "grandma s cheese pastries\n",
            "['biscotti', 'unsalted butter', 'cream cheese', 'mascarpone cheese', 'sugar', 'eggs', 'strawberries', 'balsamic vinegar']\n",
            "['flour', 'brown sugar', 'butter', 'walnuts', 'light cream cheese', 'sugar', 'eggs', 'milk', 'lemon juice', 'vanilla', 'red maraschino cherry', 'green maraschino cherry']\n",
            "['butter', 'cream cheese', 'sugar', 'salt', 'butter flavoring', 'eggs', 'sifted flour', 'fresh strawberries', 'icing sugar']\n",
            "['brie cheese', 'brown sugar', 'pecans', 'butter', 'strawberries']\n",
            "['butter', 'flour', 'cottage cheese', 'sugar']\n"
          ]
        }
      ]
    },
    {
      "cell_type": "code",
      "source": [
        "input_vector = recipe_vector([\"butter\", \"cherries\", \"sugar\", \"flour\"], model)\n",
        "\n",
        "similarities = cosine_similarity([input_vector], recipe_vectors)[0]\n",
        "print(similarities)\n",
        "\n",
        "top_indices = np.argsort(similarities)[-5:][::-1]\n",
        "top_recipes = [y_train.iloc[idx] for idx in top_indices]\n",
        "top_recipes_ing = [X_train.iloc[idx] for idx in top_indices]\n",
        "\n",
        "for recipe in top_recipes:\n",
        "    print(recipe)\n",
        "\n",
        "for ing in top_recipes_ing:\n",
        "    print(ing)\n"
      ],
      "metadata": {
        "colab": {
          "base_uri": "https://localhost:8080/"
        },
        "id": "sHalsEkWqt9g",
        "outputId": "35d85b41-d1b8-41e4-cf80-a0c0ced284d6"
      },
      "execution_count": 58,
      "outputs": [
        {
          "output_type": "stream",
          "name": "stdout",
          "text": [
            "[-0.0901701  -0.13545604  0.09532496 ...  0.10557064  0.39670187\n",
            "  0.7391112 ]\n",
            "4 ingredient peach cobbler\n",
            "pie plant pie aka rhubarb pie\n",
            "sandcookies   basic recipe\n",
            "crumb topping for coffee cake\n",
            "smul paj  crumb pie\n",
            "['flour', 'sugar', 'butter', 'peaches']\n",
            "['rhubarb', 'sugar', 'butter', 'flour']\n",
            "['butter', 'sugar', 'flour']\n",
            "['sugar', 'butter', 'flour']\n",
            "['flour', 'butter', 'sugar']\n"
          ]
        }
      ]
    },
    {
      "cell_type": "code",
      "source": [
        "# input must be seperated by commas\n",
        "input = \"butter, cheese, sugar, cherry, blueberry\"\n",
        "new_tokens = clean_tokens(input)\n",
        "print(new_tokens)\n",
        "\n",
        "input_vector = recipe_vector(new_tokens, model)\n",
        "\n",
        "similarities = cosine_similarity([input_vector], recipe_vectors)[0]\n",
        "print(similarities)\n",
        "\n",
        "top_indices = np.argsort(similarities)[-5:][::-1]\n",
        "print(top_indices)\n",
        "\n",
        "top_similarities = similarities[top_indices]\n",
        "print(top_similarities)\n",
        "\n",
        "top_recipes = [y_train.iloc[idx] for idx in top_indices]\n",
        "top_recipes_ing = [X_train.iloc[idx] for idx in top_indices]\n",
        "\n",
        "for recipe in top_recipes:\n",
        "    print(recipe)\n",
        "\n",
        "for ing in top_recipes_ing:\n",
        "    print(ing)\n"
      ],
      "metadata": {
        "colab": {
          "base_uri": "https://localhost:8080/"
        },
        "id": "ZbEYWfkgXoVp",
        "outputId": "7234c2e6-531e-4080-d59b-024df5d5a714"
      },
      "execution_count": 59,
      "outputs": [
        {
          "output_type": "stream",
          "name": "stdout",
          "text": [
            "['butter', 'cheese', 'sugar', 'cherry', 'blueberry']\n",
            "[-0.04885215 -0.17265612 -0.02566671 ...  0.05975268  0.2486096\n",
            "  0.47798908]\n",
            "[ 96574 149039 125254  47165  65606]\n",
            "[0.70847493 0.7070372  0.6989559  0.69543934 0.6936448 ]\n",
            "mascarpone cheesecake with balsamic strawberries\n",
            "holiday cheesecake bars\n",
            "strawberry cream cheese pound cake\n",
            "baby brie with praline\n",
            "grandma s cheese pastries\n",
            "['biscotti', 'unsalted butter', 'cream cheese', 'mascarpone cheese', 'sugar', 'eggs', 'strawberries', 'balsamic vinegar']\n",
            "['flour', 'brown sugar', 'butter', 'walnuts', 'light cream cheese', 'sugar', 'eggs', 'milk', 'lemon juice', 'vanilla', 'red maraschino cherry', 'green maraschino cherry']\n",
            "['butter', 'cream cheese', 'sugar', 'salt', 'butter flavoring', 'eggs', 'sifted flour', 'fresh strawberries', 'icing sugar']\n",
            "['brie cheese', 'brown sugar', 'pecans', 'butter', 'strawberries']\n",
            "['butter', 'flour', 'cottage cheese', 'sugar']\n"
          ]
        }
      ]
    },
    {
      "cell_type": "code",
      "execution_count": 60,
      "metadata": {
        "id": "kcFKHB4ArODV",
        "colab": {
          "base_uri": "https://localhost:8080/"
        },
        "outputId": "bdfa1272-2038-4c93-b42b-bf43dcc884ef"
      },
      "outputs": [
        {
          "output_type": "stream",
          "name": "stdout",
          "text": [
            "Most similar recipe text: ['water', 'orzo pasta', 'olive oil', 'italian-style tomatoes', 'chicken broth', 'fresh white mushroom', 'feta cheese']\n"
          ]
        }
      ],
      "source": [
        "most_similar = similarities.argmax()\n",
        "\n",
        "most_similar_text = X_train[most_similar]\n",
        "\n",
        "print(f\"Most similar recipe text: {most_similar_text}\")"
      ]
    },
    {
      "cell_type": "code",
      "execution_count": 61,
      "metadata": {
        "id": "oFEeYvUBZOMk",
        "colab": {
          "base_uri": "https://localhost:8080/"
        },
        "outputId": "e7425fcf-875e-4f66-c113-3485ae8cadd1"
      },
      "outputs": [
        {
          "output_type": "stream",
          "name": "stdout",
          "text": [
            "Most similar recipe text: greek mushroom orzo\n"
          ]
        }
      ],
      "source": [
        "most_similar = similarities.argmax()\n",
        "\n",
        "most_similar_text = y_train[most_similar]\n",
        "\n",
        "print(f\"Most similar recipe text: {most_similar_text}\")"
      ]
    },
    {
      "cell_type": "code",
      "execution_count": 62,
      "metadata": {
        "id": "BFdbgvZJIYfi",
        "colab": {
          "base_uri": "https://localhost:8080/"
        },
        "outputId": "c208103f-c9c5-4fc7-d31f-45c48b0ad787"
      },
      "outputs": [
        {
          "output_type": "stream",
          "name": "stderr",
          "text": [
            "<ipython-input-62-f5617b7567e0>:8: SettingWithCopyWarning: \n",
            "A value is trying to be set on a copy of a slice from a DataFrame.\n",
            "Try using .loc[row_indexer,col_indexer] = value instead\n",
            "\n",
            "See the caveats in the documentation: https://pandas.pydata.org/pandas-docs/stable/user_guide/indexing.html#returning-a-view-versus-a-copy\n",
            "  df_train['description'] = df_train['description'].astype(str)\n"
          ]
        },
        {
          "output_type": "stream",
          "name": "stdout",
          "text": [
            "                                         name  \\\n",
            "0  arriba   baked winter squash mexican style   \n",
            "1            a bit different  breakfast pizza   \n",
            "2                   all in the kitchen  chili   \n",
            "3                          alouette  potatoes   \n",
            "4          amish  tomato ketchup  for canning   \n",
            "\n",
            "                                         description        keywords  \n",
            "0  autumn is my favorite time of year to cook! th...  [sweet, spicy]  \n",
            "1  this recipe calls for the crust to be prebaked...              []  \n",
            "2  this modified version of 'mom's' chili was a h...              []  \n",
            "3  this is a super easy, great tasting, make ahea...              []  \n",
            "4  my dh's amish mother raised him on this recipe...              []  \n"
          ]
        },
        {
          "output_type": "stream",
          "name": "stderr",
          "text": [
            "<ipython-input-62-f5617b7567e0>:9: SettingWithCopyWarning: \n",
            "A value is trying to be set on a copy of a slice from a DataFrame.\n",
            "Try using .loc[row_indexer,col_indexer] = value instead\n",
            "\n",
            "See the caveats in the documentation: https://pandas.pydata.org/pandas-docs/stable/user_guide/indexing.html#returning-a-view-versus-a-copy\n",
            "  df_train['keywords'] = df_train['description'].apply(find_keywords)\n"
          ]
        }
      ],
      "source": [
        "keywords = {'sweet', 'fishy', 'salty', 'hot', 'spicy', 'buttery', 'moist'}\n",
        "\n",
        "def find_keywords(text):\n",
        "    tokens = word_tokenize(text.lower())\n",
        "    list_keywords = list(keywords.intersection(tokens))\n",
        "    return list_keywords\n",
        "\n",
        "df_train['description'] = df_train['description'].astype(str)\n",
        "df_train['keywords'] = df_train['description'].apply(find_keywords)\n",
        "\n",
        "print(df_train[['name', 'description', 'keywords']].head())\n"
      ]
    },
    {
      "cell_type": "code",
      "execution_count": 63,
      "metadata": {
        "id": "DB9Ttk1MI6IZ",
        "colab": {
          "base_uri": "https://localhost:8080/"
        },
        "outputId": "f36fd5ca-cea1-4ef5-b066-262987e5e623"
      },
      "outputs": [
        {
          "output_type": "stream",
          "name": "stdout",
          "text": [
            "                                                     name  \\\n",
            "0              arriba   baked winter squash mexican style   \n",
            "10                            berry  good sandwich spread   \n",
            "32                                   grilled  ranch bread   \n",
            "36      how i got my family to eat spinach  spinach ca...   \n",
            "42                              i yam what i yam  muffins   \n",
            "...                                                   ...   \n",
            "231615                              zuvers barbecue sauce   \n",
            "231618                       zwetschgenkuchen   plum cake   \n",
            "231624        zwiebelkuchen   southwest german onion cake   \n",
            "231625                  zwiebeln salat  swiss onion salad   \n",
            "231629                                       zydeco salad   \n",
            "\n",
            "                                              description        keywords  \n",
            "0       autumn is my favorite time of year to cook! th...  [sweet, spicy]  \n",
            "10      horseradish is one of my favorite condiments a...    [sweet, hot]  \n",
            "32                                           buttery and        [buttery]  \n",
            "36      if spinach scares you, this is one recipe that...           [hot]  \n",
            "42      these muffins may have slightly different ingr...  [sweet, moist]  \n",
            "...                                                   ...             ...  \n",
            "231615  this barbecue sauce is great on ribs, chicken ...         [sweet]  \n",
            "231618  this is a classic german pastry and a deliciou...         [sweet]  \n",
            "231624  this is a traditional late summer early fall s...         [sweet]  \n",
            "231625  adapted from pan american's compete round the ...           [hot]  \n",
            "231629  recipe courtesy of b&c seafood, vacherie, la a...         [salty]  \n",
            "\n",
            "[24460 rows x 3 columns]\n"
          ]
        }
      ],
      "source": [
        "df_with_keywords = df_train[df_train['keywords'].map(bool)]\n",
        "\n",
        "print(df_with_keywords[['name', 'description', 'keywords']])"
      ]
    },
    {
      "cell_type": "code",
      "source": [
        "#model.save(\"/content/drive/MyDrive/NLP/foodie.model\")"
      ],
      "metadata": {
        "id": "2Ng5-x7PNsqr"
      },
      "execution_count": 64,
      "outputs": []
    },
    {
      "cell_type": "code",
      "source": [
        "import pickle\n",
        "\n",
        "#with open('recipe_vectors.pkl', 'wb') as f:\n",
        "    #pickle.dump(recipe_vectors, f)\n",
        "\n",
        "#with open('X_train_clean.pkl', 'wb') as f:\n",
        "    #pickle.dump(X_train_clean, f)\n",
        "\n",
        "#with open('y_train.pkl', 'wb') as f:\n",
        "    #pickle.dump(y_train, f)\n"
      ],
      "metadata": {
        "id": "Ypwk1KMKnzJP"
      },
      "execution_count": 66,
      "outputs": []
    },
    {
      "cell_type": "code",
      "source": [
        "#files.download('recipe_vectors.pkl')\n",
        "#files.download('X_train_clean.pkl')\n",
        "#files.download('y_train.pkl')"
      ],
      "metadata": {
        "id": "7jHJTmiSoAJE"
      },
      "execution_count": 67,
      "outputs": []
    }
  ],
  "metadata": {
    "colab": {
      "provenance": []
    },
    "kernelspec": {
      "display_name": "Python 3",
      "name": "python3"
    },
    "language_info": {
      "name": "python"
    }
  },
  "nbformat": 4,
  "nbformat_minor": 0
}